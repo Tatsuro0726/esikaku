{
 "cells": [
  {
   "cell_type": "markdown",
   "metadata": {},
   "source": [
    "## 通し課題\n",
    "### kaggle: kickstarter\n",
    "\n",
    "データ : ks-projects-201801  \n",
    "問題 : 目的変数をstateとする分類  \n",
    "URL : https://www.kaggle.com/kemical/kickstarter-projects"
   ]
  },
  {
   "cell_type": "code",
   "execution_count": 1,
   "metadata": {},
   "outputs": [],
   "source": [
    "# 各種ライブラリーインポート\n",
    "from matplotlib import pyplot as plt\n",
    "import seaborn as sns\n",
    "import pandas as pd\n",
    "import numpy as np\n",
    "%matplotlib inline"
   ]
  },
  {
   "cell_type": "code",
   "execution_count": 2,
   "metadata": {},
   "outputs": [],
   "source": [
    "# データ読み込み\n",
    "df = pd.read_csv('../../../data/kickstarter/ks-projects-201801.csv')"
   ]
  },
  {
   "cell_type": "code",
   "execution_count": 3,
   "metadata": {},
   "outputs": [
    {
     "data": {
      "text/html": [
       "<div>\n",
       "<style scoped>\n",
       "    .dataframe tbody tr th:only-of-type {\n",
       "        vertical-align: middle;\n",
       "    }\n",
       "\n",
       "    .dataframe tbody tr th {\n",
       "        vertical-align: top;\n",
       "    }\n",
       "\n",
       "    .dataframe thead th {\n",
       "        text-align: right;\n",
       "    }\n",
       "</style>\n",
       "<table border=\"1\" class=\"dataframe\">\n",
       "  <thead>\n",
       "    <tr style=\"text-align: right;\">\n",
       "      <th></th>\n",
       "      <th>ID</th>\n",
       "      <th>name</th>\n",
       "      <th>category</th>\n",
       "      <th>main_category</th>\n",
       "      <th>currency</th>\n",
       "      <th>deadline</th>\n",
       "      <th>goal</th>\n",
       "      <th>launched</th>\n",
       "      <th>pledged</th>\n",
       "      <th>state</th>\n",
       "      <th>backers</th>\n",
       "      <th>country</th>\n",
       "      <th>usd pledged</th>\n",
       "      <th>usd_pledged_real</th>\n",
       "      <th>usd_goal_real</th>\n",
       "    </tr>\n",
       "  </thead>\n",
       "  <tbody>\n",
       "    <tr>\n",
       "      <td>0</td>\n",
       "      <td>1000002330</td>\n",
       "      <td>The Songs of Adelaide &amp; Abullah</td>\n",
       "      <td>Poetry</td>\n",
       "      <td>Publishing</td>\n",
       "      <td>GBP</td>\n",
       "      <td>2015-10-09</td>\n",
       "      <td>1000.0</td>\n",
       "      <td>2015-08-11 12:12:28</td>\n",
       "      <td>0.0</td>\n",
       "      <td>failed</td>\n",
       "      <td>0</td>\n",
       "      <td>GB</td>\n",
       "      <td>0.0</td>\n",
       "      <td>0.0</td>\n",
       "      <td>1533.95</td>\n",
       "    </tr>\n",
       "    <tr>\n",
       "      <td>1</td>\n",
       "      <td>1000003930</td>\n",
       "      <td>Greeting From Earth: ZGAC Arts Capsule For ET</td>\n",
       "      <td>Narrative Film</td>\n",
       "      <td>Film &amp; Video</td>\n",
       "      <td>USD</td>\n",
       "      <td>2017-11-01</td>\n",
       "      <td>30000.0</td>\n",
       "      <td>2017-09-02 04:43:57</td>\n",
       "      <td>2421.0</td>\n",
       "      <td>failed</td>\n",
       "      <td>15</td>\n",
       "      <td>US</td>\n",
       "      <td>100.0</td>\n",
       "      <td>2421.0</td>\n",
       "      <td>30000.00</td>\n",
       "    </tr>\n",
       "    <tr>\n",
       "      <td>2</td>\n",
       "      <td>1000004038</td>\n",
       "      <td>Where is Hank?</td>\n",
       "      <td>Narrative Film</td>\n",
       "      <td>Film &amp; Video</td>\n",
       "      <td>USD</td>\n",
       "      <td>2013-02-26</td>\n",
       "      <td>45000.0</td>\n",
       "      <td>2013-01-12 00:20:50</td>\n",
       "      <td>220.0</td>\n",
       "      <td>failed</td>\n",
       "      <td>3</td>\n",
       "      <td>US</td>\n",
       "      <td>220.0</td>\n",
       "      <td>220.0</td>\n",
       "      <td>45000.00</td>\n",
       "    </tr>\n",
       "    <tr>\n",
       "      <td>3</td>\n",
       "      <td>1000007540</td>\n",
       "      <td>ToshiCapital Rekordz Needs Help to Complete Album</td>\n",
       "      <td>Music</td>\n",
       "      <td>Music</td>\n",
       "      <td>USD</td>\n",
       "      <td>2012-04-16</td>\n",
       "      <td>5000.0</td>\n",
       "      <td>2012-03-17 03:24:11</td>\n",
       "      <td>1.0</td>\n",
       "      <td>failed</td>\n",
       "      <td>1</td>\n",
       "      <td>US</td>\n",
       "      <td>1.0</td>\n",
       "      <td>1.0</td>\n",
       "      <td>5000.00</td>\n",
       "    </tr>\n",
       "    <tr>\n",
       "      <td>4</td>\n",
       "      <td>1000011046</td>\n",
       "      <td>Community Film Project: The Art of Neighborhoo...</td>\n",
       "      <td>Film &amp; Video</td>\n",
       "      <td>Film &amp; Video</td>\n",
       "      <td>USD</td>\n",
       "      <td>2015-08-29</td>\n",
       "      <td>19500.0</td>\n",
       "      <td>2015-07-04 08:35:03</td>\n",
       "      <td>1283.0</td>\n",
       "      <td>canceled</td>\n",
       "      <td>14</td>\n",
       "      <td>US</td>\n",
       "      <td>1283.0</td>\n",
       "      <td>1283.0</td>\n",
       "      <td>19500.00</td>\n",
       "    </tr>\n",
       "  </tbody>\n",
       "</table>\n",
       "</div>"
      ],
      "text/plain": [
       "           ID                                               name  \\\n",
       "0  1000002330                    The Songs of Adelaide & Abullah   \n",
       "1  1000003930      Greeting From Earth: ZGAC Arts Capsule For ET   \n",
       "2  1000004038                                     Where is Hank?   \n",
       "3  1000007540  ToshiCapital Rekordz Needs Help to Complete Album   \n",
       "4  1000011046  Community Film Project: The Art of Neighborhoo...   \n",
       "\n",
       "         category main_category currency    deadline     goal  \\\n",
       "0          Poetry    Publishing      GBP  2015-10-09   1000.0   \n",
       "1  Narrative Film  Film & Video      USD  2017-11-01  30000.0   \n",
       "2  Narrative Film  Film & Video      USD  2013-02-26  45000.0   \n",
       "3           Music         Music      USD  2012-04-16   5000.0   \n",
       "4    Film & Video  Film & Video      USD  2015-08-29  19500.0   \n",
       "\n",
       "              launched  pledged     state  backers country  usd pledged  \\\n",
       "0  2015-08-11 12:12:28      0.0    failed        0      GB          0.0   \n",
       "1  2017-09-02 04:43:57   2421.0    failed       15      US        100.0   \n",
       "2  2013-01-12 00:20:50    220.0    failed        3      US        220.0   \n",
       "3  2012-03-17 03:24:11      1.0    failed        1      US          1.0   \n",
       "4  2015-07-04 08:35:03   1283.0  canceled       14      US       1283.0   \n",
       "\n",
       "   usd_pledged_real  usd_goal_real  \n",
       "0               0.0        1533.95  \n",
       "1            2421.0       30000.00  \n",
       "2             220.0       45000.00  \n",
       "3               1.0        5000.00  \n",
       "4            1283.0       19500.00  "
      ]
     },
     "execution_count": 3,
     "metadata": {},
     "output_type": "execute_result"
    }
   ],
   "source": [
    "# データの先頭5件のデータ確認\n",
    "df.head()"
   ]
  },
  {
   "cell_type": "code",
   "execution_count": 4,
   "metadata": {
    "tags": []
   },
   "outputs": [
    {
     "name": "stdout",
     "output_type": "stream",
     "text": [
      "<class 'pandas.core.frame.DataFrame'>\n",
      "RangeIndex: 378661 entries, 0 to 378660\n",
      "Data columns (total 15 columns):\n",
      "ID                  378661 non-null int64\n",
      "name                378657 non-null object\n",
      "category            378661 non-null object\n",
      "main_category       378661 non-null object\n",
      "currency            378661 non-null object\n",
      "deadline            378661 non-null object\n",
      "goal                378661 non-null float64\n",
      "launched            378661 non-null object\n",
      "pledged             378661 non-null float64\n",
      "state               378661 non-null object\n",
      "backers             378661 non-null int64\n",
      "country             378661 non-null object\n",
      "usd pledged         374864 non-null float64\n",
      "usd_pledged_real    378661 non-null float64\n",
      "usd_goal_real       378661 non-null float64\n",
      "dtypes: float64(5), int64(2), object(8)\n",
      "memory usage: 43.3+ MB\n"
     ]
    }
   ],
   "source": [
    "# データの基本的な情報確認\n",
    "df.info()"
   ]
  },
  {
   "cell_type": "code",
   "execution_count": 5,
   "metadata": {},
   "outputs": [
    {
     "data": {
      "text/html": [
       "<div>\n",
       "<style scoped>\n",
       "    .dataframe tbody tr th:only-of-type {\n",
       "        vertical-align: middle;\n",
       "    }\n",
       "\n",
       "    .dataframe tbody tr th {\n",
       "        vertical-align: top;\n",
       "    }\n",
       "\n",
       "    .dataframe thead th {\n",
       "        text-align: right;\n",
       "    }\n",
       "</style>\n",
       "<table border=\"1\" class=\"dataframe\">\n",
       "  <thead>\n",
       "    <tr style=\"text-align: right;\">\n",
       "      <th></th>\n",
       "      <th>ID</th>\n",
       "      <th>goal</th>\n",
       "      <th>pledged</th>\n",
       "      <th>backers</th>\n",
       "      <th>usd pledged</th>\n",
       "      <th>usd_pledged_real</th>\n",
       "      <th>usd_goal_real</th>\n",
       "    </tr>\n",
       "  </thead>\n",
       "  <tbody>\n",
       "    <tr>\n",
       "      <td>count</td>\n",
       "      <td>3.786610e+05</td>\n",
       "      <td>3.786610e+05</td>\n",
       "      <td>3.786610e+05</td>\n",
       "      <td>378661.000000</td>\n",
       "      <td>3.748640e+05</td>\n",
       "      <td>3.786610e+05</td>\n",
       "      <td>3.786610e+05</td>\n",
       "    </tr>\n",
       "    <tr>\n",
       "      <td>mean</td>\n",
       "      <td>1.074731e+09</td>\n",
       "      <td>4.908079e+04</td>\n",
       "      <td>9.682979e+03</td>\n",
       "      <td>105.617476</td>\n",
       "      <td>7.036729e+03</td>\n",
       "      <td>9.058924e+03</td>\n",
       "      <td>4.545440e+04</td>\n",
       "    </tr>\n",
       "    <tr>\n",
       "      <td>std</td>\n",
       "      <td>6.190862e+08</td>\n",
       "      <td>1.183391e+06</td>\n",
       "      <td>9.563601e+04</td>\n",
       "      <td>907.185035</td>\n",
       "      <td>7.863975e+04</td>\n",
       "      <td>9.097334e+04</td>\n",
       "      <td>1.152950e+06</td>\n",
       "    </tr>\n",
       "    <tr>\n",
       "      <td>min</td>\n",
       "      <td>5.971000e+03</td>\n",
       "      <td>1.000000e-02</td>\n",
       "      <td>0.000000e+00</td>\n",
       "      <td>0.000000</td>\n",
       "      <td>0.000000e+00</td>\n",
       "      <td>0.000000e+00</td>\n",
       "      <td>1.000000e-02</td>\n",
       "    </tr>\n",
       "    <tr>\n",
       "      <td>25%</td>\n",
       "      <td>5.382635e+08</td>\n",
       "      <td>2.000000e+03</td>\n",
       "      <td>3.000000e+01</td>\n",
       "      <td>2.000000</td>\n",
       "      <td>1.698000e+01</td>\n",
       "      <td>3.100000e+01</td>\n",
       "      <td>2.000000e+03</td>\n",
       "    </tr>\n",
       "    <tr>\n",
       "      <td>50%</td>\n",
       "      <td>1.075276e+09</td>\n",
       "      <td>5.200000e+03</td>\n",
       "      <td>6.200000e+02</td>\n",
       "      <td>12.000000</td>\n",
       "      <td>3.947200e+02</td>\n",
       "      <td>6.243300e+02</td>\n",
       "      <td>5.500000e+03</td>\n",
       "    </tr>\n",
       "    <tr>\n",
       "      <td>75%</td>\n",
       "      <td>1.610149e+09</td>\n",
       "      <td>1.600000e+04</td>\n",
       "      <td>4.076000e+03</td>\n",
       "      <td>56.000000</td>\n",
       "      <td>3.034090e+03</td>\n",
       "      <td>4.050000e+03</td>\n",
       "      <td>1.550000e+04</td>\n",
       "    </tr>\n",
       "    <tr>\n",
       "      <td>max</td>\n",
       "      <td>2.147476e+09</td>\n",
       "      <td>1.000000e+08</td>\n",
       "      <td>2.033899e+07</td>\n",
       "      <td>219382.000000</td>\n",
       "      <td>2.033899e+07</td>\n",
       "      <td>2.033899e+07</td>\n",
       "      <td>1.663614e+08</td>\n",
       "    </tr>\n",
       "  </tbody>\n",
       "</table>\n",
       "</div>"
      ],
      "text/plain": [
       "                 ID          goal       pledged        backers   usd pledged  \\\n",
       "count  3.786610e+05  3.786610e+05  3.786610e+05  378661.000000  3.748640e+05   \n",
       "mean   1.074731e+09  4.908079e+04  9.682979e+03     105.617476  7.036729e+03   \n",
       "std    6.190862e+08  1.183391e+06  9.563601e+04     907.185035  7.863975e+04   \n",
       "min    5.971000e+03  1.000000e-02  0.000000e+00       0.000000  0.000000e+00   \n",
       "25%    5.382635e+08  2.000000e+03  3.000000e+01       2.000000  1.698000e+01   \n",
       "50%    1.075276e+09  5.200000e+03  6.200000e+02      12.000000  3.947200e+02   \n",
       "75%    1.610149e+09  1.600000e+04  4.076000e+03      56.000000  3.034090e+03   \n",
       "max    2.147476e+09  1.000000e+08  2.033899e+07  219382.000000  2.033899e+07   \n",
       "\n",
       "       usd_pledged_real  usd_goal_real  \n",
       "count      3.786610e+05   3.786610e+05  \n",
       "mean       9.058924e+03   4.545440e+04  \n",
       "std        9.097334e+04   1.152950e+06  \n",
       "min        0.000000e+00   1.000000e-02  \n",
       "25%        3.100000e+01   2.000000e+03  \n",
       "50%        6.243300e+02   5.500000e+03  \n",
       "75%        4.050000e+03   1.550000e+04  \n",
       "max        2.033899e+07   1.663614e+08  "
      ]
     },
     "execution_count": 5,
     "metadata": {},
     "output_type": "execute_result"
    }
   ],
   "source": [
    "# データの基礎集計(int/float型のみ)\n",
    "df.describe()"
   ]
  },
  {
   "cell_type": "code",
   "execution_count": 6,
   "metadata": {},
   "outputs": [
    {
     "data": {
      "text/plain": [
       "ID                     0\n",
       "name                   4\n",
       "category               0\n",
       "main_category          0\n",
       "currency               0\n",
       "deadline               0\n",
       "goal                   0\n",
       "launched               0\n",
       "pledged                0\n",
       "state                  0\n",
       "backers                0\n",
       "country                0\n",
       "usd pledged         3797\n",
       "usd_pledged_real       0\n",
       "usd_goal_real          0\n",
       "dtype: int64"
      ]
     },
     "execution_count": 6,
     "metadata": {},
     "output_type": "execute_result"
    }
   ],
   "source": [
    "# 欠損値確認\n",
    "df.isnull().sum()"
   ]
  },
  {
   "cell_type": "markdown",
   "metadata": {},
   "source": [
    "| 変数名 | 変数の意味 |\n",
    "| ----- | ---------- |\n",
    "| ID\t| KICKSTARTER上で管理するための番号 |\n",
    "| name  | \tプロジェクト名 |\n",
    "| category | \t第2カテゴリー(下記main_categoryで分けられた分類をさらに細分化するためのカテゴリー)  |\n",
    "| main_category | \t第1カテゴリー  |\n",
    "| currency\t| 募集した通貨の単位  |\n",
    "| deadline\t| 支援金の公募期間の締切日  |\n",
    "| goal\t| 目標公募金額  |\n",
    "| launched\t| 支援金の公募期間の開始日  |\n",
    "| pledged\t| 公募された金額  |\n",
    "| state\t| プロジェクトの資金調達が目標額に到達したかどうかの成功可否  |\n",
    "| backers\t| 支援者数  |\n",
    "| country\t| どの国のプロジェクトか |\n",
    "| usd pledged\t| KICKSTARTER運営側がドル換算した、公募された金額 |\n",
    "| usd_pledged_real\t| Fixer.io APIを利用してドル換算した、公募された金額 |\n",
    "| usd_goal_real\t| Fixer.io APIを利用してドル換算した、目標公募金額 |"
   ]
  },
  {
   "cell_type": "markdown",
   "metadata": {},
   "source": [
    "削除対象\n",
    "- ID\n",
    "- pledged\n",
    "- usd pledged\n",
    "- usd\n",
    "- backers"
   ]
  },
  {
   "cell_type": "markdown",
   "metadata": {},
   "source": [
    "---------------------\n",
    "1. 目的変数(state)の処理\n",
    "---------------------"
   ]
  },
  {
   "cell_type": "code",
   "execution_count": 7,
   "metadata": {},
   "outputs": [
    {
     "data": {
      "text/plain": [
       "failed        197719\n",
       "successful    133956\n",
       "canceled       38779\n",
       "undefined       3562\n",
       "live            2799\n",
       "suspended       1846\n",
       "Name: state, dtype: int64"
      ]
     },
     "execution_count": 7,
     "metadata": {},
     "output_type": "execute_result"
    }
   ],
   "source": [
    "# 目的変数のカテゴリ確認\n",
    "df.state.value_counts()"
   ]
  },
  {
   "cell_type": "code",
   "execution_count": 8,
   "metadata": {},
   "outputs": [
    {
     "data": {
      "image/png": "[encoded data removed]",
      "text/plain": [
       "<Figure size 432x288 with 1 Axes>"
      ]
     },
     "metadata": {},
     "output_type": "display_data"
    }
   ],
   "source": [
    "# 目的変数のカテゴリの割合\n",
    "# plt.pieの各オプション:\n",
    "# counterclock: データを時計回りに入れる\n",
    "# startangle: 1番最初のデータ開始位置 - 90は円の上から\n",
    "# autopct: 構成割合のラベル表示\n",
    "# pctdistance: \n",
    "# その他円グラフ：\n",
    "# https://matplotlib.org/gallery/pie_and_polar_charts/pie_and_donut_labels.html#sphx-glr-gallery-pie-and-polar-charts-pie-and-donut-labels-py\n",
    "plt.pie(df.state.value_counts() / df.state.value_counts().sum(),\n",
    "        labels = df.state.value_counts().keys(),\n",
    "        counterclock=False,\n",
    "        startangle=90,\n",
    "        autopct='%.1f', \n",
    "        pctdistance=0.5,\n",
    "        labeldistance=1.2)\n",
    "plt.show()"
   ]
  },
  {
   "cell_type": "code",
   "execution_count": 9,
   "metadata": {
    "tags": []
   },
   "outputs": [
    {
     "name": "stdout",
     "output_type": "stream",
     "text": [
      "failed        197719\n",
      "successful    133956\n",
      "Name: state, dtype: int64\n",
      "331675\n"
     ]
    }
   ],
   "source": [
    "# 2種類(failed, successful)のみを抽出する\n",
    "failed = df[df['state'] == 'failed']\n",
    "successful = df[df['state'] == 'successful']\n",
    "new_df = pd.concat([failed, successful],ignore_index=True)\n",
    "# 検算\n",
    "print(new_df['state'].value_counts())\n",
    "print(new_df['state'].value_counts().sum())"
   ]
  },
  {
   "cell_type": "code",
   "execution_count": 10,
   "metadata": {
    "tags": []
   },
   "outputs": [
    {
     "name": "stdout",
     "output_type": "stream",
     "text": [
      "0    197719\n",
      "1    133956\n",
      "Name: state, dtype: int64\n",
      "331675\n"
     ]
    }
   ],
   "source": [
    "# failed: 0, successful: 1\n",
    "new_df.loc[new_df['state'] == 'failed', 'state'] = 0\n",
    "new_df.loc[new_df['state'] == 'successful', 'state'] = 1\n",
    "# 確認\n",
    "print(new_df['state'].value_counts())\n",
    "print(new_df['state'].value_counts().sum())"
   ]
  },
  {
   "cell_type": "code",
   "execution_count": 11,
   "metadata": {
    "tags": []
   },
   "outputs": [
    {
     "name": "stdout",
     "output_type": "stream",
     "text": [
      "<class 'numpy.float64'>\n"
     ]
    }
   ],
   "source": [
    "# float型に変換\n",
    "new_df['state'] = new_df['state'].astype('float')\n",
    "# 確認\n",
    "print(type(new_df['state'][0]))"
   ]
  },
  {
   "cell_type": "code",
   "execution_count": 12,
   "metadata": {
    "tags": []
   },
   "outputs": [
    {
     "name": "stdout",
     "output_type": "stream",
     "text": [
      "<class 'pandas.core.frame.DataFrame'>\n",
      "RangeIndex: 331675 entries, 0 to 331674\n",
      "Data columns (total 15 columns):\n",
      "ID                  331675 non-null int64\n",
      "name                331672 non-null object\n",
      "category            331675 non-null object\n",
      "main_category       331675 non-null object\n",
      "currency            331675 non-null object\n",
      "deadline            331675 non-null object\n",
      "goal                331675 non-null float64\n",
      "launched            331675 non-null object\n",
      "pledged             331675 non-null float64\n",
      "state               331675 non-null float64\n",
      "backers             331675 non-null int64\n",
      "country             331675 non-null object\n",
      "usd pledged         331465 non-null float64\n",
      "usd_pledged_real    331675 non-null float64\n",
      "usd_goal_real       331675 non-null float64\n",
      "dtypes: float64(6), int64(2), object(7)\n",
      "memory usage: 38.0+ MB\n"
     ]
    }
   ],
   "source": [
    "# dataframe確認\n",
    "new_df.info()"
   ]
  },
  {
   "cell_type": "markdown",
   "metadata": {},
   "source": [
    "-------------------------------\n",
    "### 2. main_category列の処理\n",
    "-------------------------------"
   ]
  },
  {
   "cell_type": "code",
   "execution_count": 13,
   "metadata": {
    "tags": []
   },
   "outputs": [
    {
     "name": "stdout",
     "output_type": "stream",
     "text": [
      "category数      :159\n",
      "main_category数 :15\n"
     ]
    }
   ],
   "source": [
    "# カテゴリの種類\n",
    "category = new_df['category'].value_counts()\n",
    "main_category = new_df['main_category'].value_counts()\n",
    "print('category数      :{}'.format(len(category)))\n",
    "print('main_category数 :{}'.format(len(main_category)))"
   ]
  },
  {
   "cell_type": "code",
   "execution_count": 14,
   "metadata": {},
   "outputs": [
    {
     "data": {
      "text/plain": [
       "<matplotlib.axes._subplots.AxesSubplot at 0x194094869c8>"
      ]
     },
     "execution_count": 14,
     "metadata": {},
     "output_type": "execute_result"
    },
    {
     "data": {
      "image/png": "[encoded data removed]",
      "text/plain": [
       "<Figure size 432x288 with 1 Axes>"
      ]
     },
     "metadata": {
      "needs_background": "light"
     },
     "output_type": "display_data"
    }
   ],
   "source": [
    "# メインカテゴリの種類と割合\n",
    "main_category = new_df['main_category'].value_counts() / new_df['main_category'].value_counts().sum()\n",
    "main_category.plot.bar()"
   ]
  },
  {
   "cell_type": "code",
   "execution_count": 15,
   "metadata": {
    "tags": []
   },
   "outputs": [
    {
     "data": {
      "image/png": "[encoded data removed]",
      "text/plain": [
       "<Figure size 432x288 with 1 Axes>"
      ]
     },
     "metadata": {
      "needs_background": "light"
     },
     "output_type": "display_data"
    }
   ],
   "source": [
    "# カテゴリごとの成功率\n",
    "successful_count = new_df.groupby(['main_category'])['state'].mean()\n",
    "ranking = successful_count.sort_values(ascending=False)\n",
    "plt.bar(ranking.index, ranking.values) # 棒グラフ\n",
    "plt.xticks(rotation=80) # x軸回転\n",
    "plt.xlabel('main_category') # x軸ラベル\n",
    "plt.ylabel('successful rate') # y軸ラベル\n",
    "# plt.ylim([0.0, 1.0]) # y軸スケール\n",
    "\n",
    "plt.show()"
   ]
  },
  {
   "cell_type": "code",
   "execution_count": 16,
   "metadata": {},
   "outputs": [
    {
     "data": {
      "image/png": "[encoded data removed]",
      "text/plain": [
       "<Figure size 432x288 with 1 Axes>"
      ]
     },
     "metadata": {
      "needs_background": "light"
     },
     "output_type": "display_data"
    }
   ],
   "source": [
    "# 成功/失敗ごとにカウント表示\n",
    "sns.countplot(data=new_df, x=new_df.main_category, hue=new_df.state)\n",
    "plt.xticks(rotation=90)\n",
    "plt.show()"
   ]
  },
  {
   "cell_type": "code",
   "execution_count": 17,
   "metadata": {},
   "outputs": [
    {
     "data": {
      "text/plain": [
       "OneHotEncoder(categorical_features=None, categories=None, drop=None,\n",
       "              dtype=<class 'numpy.float64'>, handle_unknown='error',\n",
       "              n_values=None, sparse=False)"
      ]
     },
     "execution_count": 17,
     "metadata": {},
     "output_type": "execute_result"
    }
   ],
   "source": [
    "# one-hot-encoding ダミー変数化\n",
    "# One-hot-encorder(https://zerofromlight.com/blogs/detail/71/)\n",
    "from sklearn.preprocessing import OneHotEncoder\n",
    "enc = OneHotEncoder(sparse=False)\n",
    "\n",
    "# reshapeで2次元配列に変換\n",
    "enc.fit(new_df['main_category'].values.reshape(-1,1))"
   ]
  },
  {
   "cell_type": "code",
   "execution_count": 18,
   "metadata": {},
   "outputs": [],
   "source": [
    "import category_encoders as ce"
   ]
  },
  {
   "cell_type": "code",
   "execution_count": 19,
   "metadata": {
    "tags": []
   },
   "outputs": [
    {
     "name": "stdout",
     "output_type": "stream",
     "text": [
      "[0. 0. 0. 0. 0. 0. 0. 0. 0. 0. 0. 0. 1. 0. 0.]\n"
     ]
    },
    {
     "data": {
      "text/plain": [
       "array(['ID', 'name', 'category', 'main_category', 'currency', 'deadline',\n",
       "       'goal', 'launched', 'pledged', 'state', 'backers', 'country',\n",
       "       'usd pledged', 'usd_pledged_real', 'usd_goal_real', 'Art',\n",
       "       'Comics', 'Crafts', 'Dance', 'Design', 'Fashion', 'Film & Video',\n",
       "       'Food', 'Games', 'Journalism', 'Music', 'Photography',\n",
       "       'Publishing', 'Technology', 'Theater'], dtype=object)"
      ]
     },
     "execution_count": 19,
     "metadata": {},
     "output_type": "execute_result"
    }
   ],
   "source": [
    "# one-hot-encoding ダミー変数化\n",
    "# One-hot-encorder(https://zerofromlight.com/blogs/detail/71/)\n",
    "from sklearn.preprocessing import OneHotEncoder\n",
    "enc = OneHotEncoder(sparse=False)\n",
    "\n",
    "# reshapeで2次元配列に変換\n",
    "enc.fit(new_df['main_category'].values.reshape(-1,1))\n",
    "\n",
    "# numpy配列として出力\n",
    "arr = enc.transform(new_df['main_category'].values.reshape(-1,1))\n",
    "print(arr[0,:]) # ダミー変数化できたか確認\n",
    "\n",
    "# new_dfに代入\n",
    "tmp_df = pd.DataFrame(arr, columns=enc.categories_[0])\n",
    "new_df = pd.concat([new_df, tmp_df], axis=1)\n",
    "# 確認\n",
    "new_df.columns.values"
   ]
  },
  {
   "cell_type": "code",
   "execution_count": 20,
   "metadata": {
    "tags": []
   },
   "outputs": [
    {
     "name": "stdout",
     "output_type": "stream",
     "text": [
      "<class 'pandas.core.frame.DataFrame'>\n",
      "RangeIndex: 331675 entries, 0 to 331674\n",
      "Data columns (total 30 columns):\n",
      "ID                  331675 non-null int64\n",
      "name                331672 non-null object\n",
      "category            331675 non-null object\n",
      "main_category       331675 non-null object\n",
      "currency            331675 non-null object\n",
      "deadline            331675 non-null object\n",
      "goal                331675 non-null float64\n",
      "launched            331675 non-null object\n",
      "pledged             331675 non-null float64\n",
      "state               331675 non-null float64\n",
      "backers             331675 non-null int64\n",
      "country             331675 non-null object\n",
      "usd pledged         331465 non-null float64\n",
      "usd_pledged_real    331675 non-null float64\n",
      "usd_goal_real       331675 non-null float64\n",
      "Art                 331675 non-null float64\n",
      "Comics              331675 non-null float64\n",
      "Crafts              331675 non-null float64\n",
      "Dance               331675 non-null float64\n",
      "Design              331675 non-null float64\n",
      "Fashion             331675 non-null float64\n",
      "Film & Video        331675 non-null float64\n",
      "Food                331675 non-null float64\n",
      "Games               331675 non-null float64\n",
      "Journalism          331675 non-null float64\n",
      "Music               331675 non-null float64\n",
      "Photography         331675 non-null float64\n",
      "Publishing          331675 non-null float64\n",
      "Technology          331675 non-null float64\n",
      "Theater             331675 non-null float64\n",
      "dtypes: float64(21), int64(2), object(7)\n",
      "memory usage: 75.9+ MB\n"
     ]
    }
   ],
   "source": [
    "# 型確認(floatかどうか)\n",
    "new_df.info()"
   ]
  },
  {
   "cell_type": "markdown",
   "metadata": {},
   "source": [
    "------------------------------------\n",
    "### 3. currencyの処理\n",
    "------------------------------------"
   ]
  },
  {
   "cell_type": "code",
   "execution_count": 21,
   "metadata": {},
   "outputs": [
    {
     "data": {
      "text/plain": [
       "USD    261511\n",
       "GBP     29476\n",
       "EUR     14378\n",
       "CAD     12375\n",
       "AUD      6621\n",
       "SEK      1510\n",
       "MXN      1411\n",
       "NZD      1274\n",
       "DKK       929\n",
       "CHF       652\n",
       "NOK       584\n",
       "HKD       477\n",
       "SGD       454\n",
       "JPY        23\n",
       "Name: currency, dtype: int64"
      ]
     },
     "execution_count": 21,
     "metadata": {},
     "output_type": "execute_result"
    }
   ],
   "source": [
    "# currencyのカラム確認\n",
    "new_df['currency'].value_counts()"
   ]
  },
  {
   "cell_type": "code",
   "execution_count": 22,
   "metadata": {},
   "outputs": [
    {
     "data": {
      "text/plain": [
       "<matplotlib.axes._subplots.AxesSubplot at 0x19413ec5888>"
      ]
     },
     "execution_count": 22,
     "metadata": {},
     "output_type": "execute_result"
    },
    {
     "data": {
      "image/png": "[encoded data removed]",
      "text/plain": [
       "<Figure size 432x288 with 1 Axes>"
      ]
     },
     "metadata": {
      "needs_background": "light"
     },
     "output_type": "display_data"
    }
   ],
   "source": [
    "# 成功/失敗ごとにカウント表示\n",
    "sns.countplot(x=new_df.currency,hue=new_df.state)"
   ]
  },
  {
   "cell_type": "code",
   "execution_count": 23,
   "metadata": {},
   "outputs": [
    {
     "data": {
      "image/png": "[encoded data removed]",
      "text/plain": [
       "<Figure size 432x288 with 1 Axes>"
      ]
     },
     "metadata": {
      "needs_background": "light"
     },
     "output_type": "display_data"
    }
   ],
   "source": [
    "# 通貨ごとの成功率\n",
    "ranking = new_df.groupby(['currency'])['state'].mean().sort_values(ascending=False)\n",
    "plt.bar(ranking.index, ranking.values)\n",
    "plt.xlabel('currency')\n",
    "plt.ylabel('succcessful rate')\n",
    "plt.xticks(rotation= 45)\n",
    "# plt.ylim([0.0,1.0])\n",
    "plt.show()"
   ]
  },
  {
   "cell_type": "code",
   "execution_count": 24,
   "metadata": {},
   "outputs": [
    {
     "name": "stdout",
     "output_type": "stream",
     "text": [
      "[0. 0. 0. 0. 0. 1. 0. 0. 0. 0. 0. 0. 0. 0.]\n",
      "[array(['AUD', 'CAD', 'CHF', 'DKK', 'EUR', 'GBP', 'HKD', 'JPY', 'MXN',\n",
      "       'NOK', 'NZD', 'SEK', 'SGD', 'USD'], dtype=object)]\n"
     ]
    }
   ],
   "source": [
    "# One-hot-encode\n",
    "enc = OneHotEncoder(sparse=False)\n",
    "\n",
    "# reshapeで2次元配列に変換⇒One hot encode\n",
    "# numpy配列として出力\n",
    "arr = enc.fit_transform(new_df['currency'].values.reshape(-1,1))\n",
    "print(arr[0])\n",
    "print(enc.categories_)"
   ]
  },
  {
   "cell_type": "code",
   "execution_count": 25,
   "metadata": {},
   "outputs": [],
   "source": [
    "# new_dfに代入\n",
    "tmp_df = pd.DataFrame(arr, columns=enc.categories_[0])\n",
    "new_df = pd.concat([new_df, tmp_df], axis=1)"
   ]
  },
  {
   "cell_type": "code",
   "execution_count": 26,
   "metadata": {},
   "outputs": [
    {
     "name": "stdout",
     "output_type": "stream",
     "text": [
      "<class 'pandas.core.frame.DataFrame'>\n",
      "RangeIndex: 331675 entries, 0 to 331674\n",
      "Data columns (total 44 columns):\n",
      "ID                  331675 non-null int64\n",
      "name                331672 non-null object\n",
      "category            331675 non-null object\n",
      "main_category       331675 non-null object\n",
      "currency            331675 non-null object\n",
      "deadline            331675 non-null object\n",
      "goal                331675 non-null float64\n",
      "launched            331675 non-null object\n",
      "pledged             331675 non-null float64\n",
      "state               331675 non-null float64\n",
      "backers             331675 non-null int64\n",
      "country             331675 non-null object\n",
      "usd pledged         331465 non-null float64\n",
      "usd_pledged_real    331675 non-null float64\n",
      "usd_goal_real       331675 non-null float64\n",
      "Art                 331675 non-null float64\n",
      "Comics              331675 non-null float64\n",
      "Crafts              331675 non-null float64\n",
      "Dance               331675 non-null float64\n",
      "Design              331675 non-null float64\n",
      "Fashion             331675 non-null float64\n",
      "Film & Video        331675 non-null float64\n",
      "Food                331675 non-null float64\n",
      "Games               331675 non-null float64\n",
      "Journalism          331675 non-null float64\n",
      "Music               331675 non-null float64\n",
      "Photography         331675 non-null float64\n",
      "Publishing          331675 non-null float64\n",
      "Technology          331675 non-null float64\n",
      "Theater             331675 non-null float64\n",
      "AUD                 331675 non-null float64\n",
      "CAD                 331675 non-null float64\n",
      "CHF                 331675 non-null float64\n",
      "DKK                 331675 non-null float64\n",
      "EUR                 331675 non-null float64\n",
      "GBP                 331675 non-null float64\n",
      "HKD                 331675 non-null float64\n",
      "JPY                 331675 non-null float64\n",
      "MXN                 331675 non-null float64\n",
      "NOK                 331675 non-null float64\n",
      "NZD                 331675 non-null float64\n",
      "SEK                 331675 non-null float64\n",
      "SGD                 331675 non-null float64\n",
      "USD                 331675 non-null float64\n",
      "dtypes: float64(35), int64(2), object(7)\n",
      "memory usage: 111.3+ MB\n"
     ]
    }
   ],
   "source": [
    "# 型確認\n",
    "new_df.info()"
   ]
  },
  {
   "cell_type": "markdown",
   "metadata": {},
   "source": [
    "-------------------------------\n",
    "### 4. goal列の処理\n",
    "-------------------------------"
   ]
  },
  {
   "cell_type": "code",
   "execution_count": 27,
   "metadata": {
    "tags": []
   },
   "outputs": [
    {
     "data": {
      "image/png": "[encoded data removed]",
      "text/plain": [
       "<Figure size 432x288 with 1 Axes>"
      ]
     },
     "metadata": {
      "needs_background": "light"
     },
     "output_type": "display_data"
    }
   ],
   "source": [
    "# goal - usd_goal_realとの関係\n",
    "plt.scatter(new_df['goal'], new_df['usd_goal_real'])\n",
    "plt.show()"
   ]
  },
  {
   "cell_type": "code",
   "execution_count": 28,
   "metadata": {},
   "outputs": [
    {
     "data": {
      "image/png": "[encoded data removed]",
      "text/plain": [
       "<Figure size 432x288 with 1 Axes>"
      ]
     },
     "metadata": {
      "needs_background": "light"
     },
     "output_type": "display_data"
    }
   ],
   "source": [
    "# goal - usd_goal_realとの関係\n",
    "sns.scatterplot(np.log10(new_df['goal'].values), np.log10(new_df['usd_goal_real'].values), hue=new_df['state'])\n",
    "plt.show()"
   ]
  },
  {
   "cell_type": "code",
   "execution_count": 29,
   "metadata": {},
   "outputs": [
    {
     "data": {
      "text/plain": [
       "count    3.316750e+05\n",
       "mean     4.425157e+04\n",
       "std      1.117917e+06\n",
       "min      1.000000e-02\n",
       "25%      2.000000e+03\n",
       "50%      5.000000e+03\n",
       "75%      1.500000e+04\n",
       "max      1.000000e+08\n",
       "Name: goal, dtype: float64"
      ]
     },
     "execution_count": 29,
     "metadata": {},
     "output_type": "execute_result"
    }
   ],
   "source": [
    "# goalとusd_goal_realはどちらか一方で良さそうなのでgoal列を使ってみる\n",
    "# 統計情報確認\n",
    "new_df['goal'].describe()"
   ]
  },
  {
   "cell_type": "code",
   "execution_count": 30,
   "metadata": {},
   "outputs": [
    {
     "data": {
      "text/plain": [
       "83422     100000000.0\n",
       "28638     100000000.0\n",
       "37883     100000000.0\n",
       "135149    100000000.0\n",
       "17212     100000000.0\n",
       "40443     100000000.0\n",
       "102382    100000000.0\n",
       "193943    100000000.0\n",
       "61549     100000000.0\n",
       "176716    100000000.0\n",
       "Name: goal, dtype: float64"
      ]
     },
     "execution_count": 30,
     "metadata": {},
     "output_type": "execute_result"
    }
   ],
   "source": [
    "# goalの上位10\n",
    "new_df['goal'].sort_values(ascending=False)[:10]"
   ]
  },
  {
   "cell_type": "code",
   "execution_count": 31,
   "metadata": {},
   "outputs": [
    {
     "data": {
      "image/png": "[encoded data removed]",
      "text/plain": [
       "<Figure size 432x288 with 1 Axes>"
      ]
     },
     "metadata": {
      "needs_background": "light"
     },
     "output_type": "display_data"
    }
   ],
   "source": [
    "# goalのグラフ\n",
    "plt.hist(new_df['goal'])\n",
    "plt.show()"
   ]
  },
  {
   "cell_type": "code",
   "execution_count": 32,
   "metadata": {},
   "outputs": [
    {
     "data": {
      "image/png": "[encoded data removed]",
      "text/plain": [
       "<Figure size 432x288 with 1 Axes>"
      ]
     },
     "metadata": {
      "needs_background": "light"
     },
     "output_type": "display_data"
    }
   ],
   "source": [
    "# 各値が大きすぎるので対数log_10で変換\n",
    "plt.hist(np.log10(new_df['goal'].values), bins=30)\n",
    "plt.show()"
   ]
  },
  {
   "cell_type": "code",
   "execution_count": 33,
   "metadata": {
    "tags": []
   },
   "outputs": [
    {
     "name": "stdout",
     "output_type": "stream",
     "text": [
      "-6.306890221083093e-16\n",
      "1.0\n"
     ]
    }
   ],
   "source": [
    "# 標準化する\n",
    "# https://scikit-learn.org/stable/modules/generated/sklearn.preprocessing.StandardScaler.html\n",
    "from sklearn.preprocessing import StandardScaler\n",
    "stdsc = StandardScaler() # インスタンス生成\n",
    "log10_goal_stdsc = stdsc.fit_transform(np.log10(new_df['goal'].values.reshape(-1,1)))\n",
    "# 標準化の確認\n",
    "print(log10_goal_stdsc.mean())\n",
    "print(log10_goal_stdsc.std())"
   ]
  },
  {
   "cell_type": "code",
   "execution_count": 34,
   "metadata": {},
   "outputs": [
    {
     "data": {
      "text/plain": [
       "0        -0.988637\n",
       "1         1.011062\n",
       "2         1.249451\n",
       "3        -0.042385\n",
       "4         0.903868\n",
       "            ...   \n",
       "331670   -0.988637\n",
       "331671   -0.252088\n",
       "331672   -1.018794\n",
       "331673   -0.042385\n",
       "331674    0.772673\n",
       "Name: goal_stdsc, Length: 331675, dtype: float64"
      ]
     },
     "execution_count": 34,
     "metadata": {},
     "output_type": "execute_result"
    }
   ],
   "source": [
    "# new_dfに列追加\n",
    "new_df['goal_stdsc'] = log10_goal_stdsc\n",
    "new_df['goal_stdsc']"
   ]
  },
  {
   "cell_type": "code",
   "execution_count": 35,
   "metadata": {
    "tags": []
   },
   "outputs": [
    {
     "name": "stdout",
     "output_type": "stream",
     "text": [
      "<class 'pandas.core.frame.DataFrame'>\n",
      "RangeIndex: 331675 entries, 0 to 331674\n",
      "Data columns (total 45 columns):\n",
      "ID                  331675 non-null int64\n",
      "name                331672 non-null object\n",
      "category            331675 non-null object\n",
      "main_category       331675 non-null object\n",
      "currency            331675 non-null object\n",
      "deadline            331675 non-null object\n",
      "goal                331675 non-null float64\n",
      "launched            331675 non-null object\n",
      "pledged             331675 non-null float64\n",
      "state               331675 non-null float64\n",
      "backers             331675 non-null int64\n",
      "country             331675 non-null object\n",
      "usd pledged         331465 non-null float64\n",
      "usd_pledged_real    331675 non-null float64\n",
      "usd_goal_real       331675 non-null float64\n",
      "Art                 331675 non-null float64\n",
      "Comics              331675 non-null float64\n",
      "Crafts              331675 non-null float64\n",
      "Dance               331675 non-null float64\n",
      "Design              331675 non-null float64\n",
      "Fashion             331675 non-null float64\n",
      "Film & Video        331675 non-null float64\n",
      "Food                331675 non-null float64\n",
      "Games               331675 non-null float64\n",
      "Journalism          331675 non-null float64\n",
      "Music               331675 non-null float64\n",
      "Photography         331675 non-null float64\n",
      "Publishing          331675 non-null float64\n",
      "Technology          331675 non-null float64\n",
      "Theater             331675 non-null float64\n",
      "AUD                 331675 non-null float64\n",
      "CAD                 331675 non-null float64\n",
      "CHF                 331675 non-null float64\n",
      "DKK                 331675 non-null float64\n",
      "EUR                 331675 non-null float64\n",
      "GBP                 331675 non-null float64\n",
      "HKD                 331675 non-null float64\n",
      "JPY                 331675 non-null float64\n",
      "MXN                 331675 non-null float64\n",
      "NOK                 331675 non-null float64\n",
      "NZD                 331675 non-null float64\n",
      "SEK                 331675 non-null float64\n",
      "SGD                 331675 non-null float64\n",
      "USD                 331675 non-null float64\n",
      "goal_stdsc          331675 non-null float64\n",
      "dtypes: float64(36), int64(2), object(7)\n",
      "memory usage: 113.9+ MB\n"
     ]
    }
   ],
   "source": [
    "# 確認\n",
    "new_df.info()"
   ]
  },
  {
   "cell_type": "markdown",
   "metadata": {},
   "source": [
    "-------------------------------------\n",
    "### 5. launched & deadlineの処理\n",
    "-------------------------------------"
   ]
  },
  {
   "cell_type": "code",
   "execution_count": 36,
   "metadata": {
    "tags": []
   },
   "outputs": [
    {
     "name": "stdout",
     "output_type": "stream",
     "text": [
      "<class 'str'>\n",
      "<class 'str'>\n"
     ]
    }
   ],
   "source": [
    "# 型確認\n",
    "print(type(new_df['deadline'][0]))\n",
    "print(type(new_df['launched'][0]))"
   ]
  },
  {
   "cell_type": "code",
   "execution_count": 37,
   "metadata": {},
   "outputs": [
    {
     "data": {
      "text/plain": [
       "0        2015-08-11\n",
       "1        2017-09-02\n",
       "2        2013-01-12\n",
       "3        2012-03-17\n",
       "4        2016-02-01\n",
       "            ...    \n",
       "331670   2017-10-04\n",
       "331671   2015-11-23\n",
       "331672   2013-10-18\n",
       "331673   2014-02-20\n",
       "331674   2015-03-29\n",
       "Name: launched, Length: 331675, dtype: datetime64[ns]"
      ]
     },
     "execution_count": 37,
     "metadata": {},
     "output_type": "execute_result"
    }
   ],
   "source": [
    "# date型へ変換\n",
    "deadline = pd.to_datetime(new_df['deadline'],format='%Y-%m-%d')\n",
    "launched = pd.to_datetime(new_df['launched'], format='%Y-%m-%d').dt.floor('D') # 日付で切り捨て\n",
    "launched"
   ]
  },
  {
   "cell_type": "code",
   "execution_count": 38,
   "metadata": {},
   "outputs": [
    {
     "data": {
      "text/plain": [
       "0        59 days\n",
       "1        60 days\n",
       "2        45 days\n",
       "3        30 days\n",
       "4        45 days\n",
       "           ...  \n",
       "331670   27 days\n",
       "331671   22 days\n",
       "331672   43 days\n",
       "331673   30 days\n",
       "331674   30 days\n",
       "Length: 331675, dtype: timedelta64[ns]"
      ]
     },
     "execution_count": 38,
     "metadata": {},
     "output_type": "execute_result"
    }
   ],
   "source": [
    "# 期間算出\n",
    "period = deadline - launched\n",
    "period"
   ]
  },
  {
   "cell_type": "code",
   "execution_count": 39,
   "metadata": {
    "tags": []
   },
   "outputs": [
    {
     "name": "stdout",
     "output_type": "stream",
     "text": [
      "<class 'numpy.float64'>\n"
     ]
    }
   ],
   "source": [
    "# timedelta64 to int ⇒ floatに変換\n",
    "period = period.dt.days.astype('float')\n",
    "# 型確認\n",
    "new_df['period'] = period\n",
    "print(type(period[0]))"
   ]
  },
  {
   "cell_type": "code",
   "execution_count": 40,
   "metadata": {},
   "outputs": [
    {
     "data": {
      "text/plain": [
       "count    331675.000000\n",
       "mean         33.954875\n",
       "std          12.713332\n",
       "min           1.000000\n",
       "25%          30.000000\n",
       "50%          30.000000\n",
       "75%          36.000000\n",
       "max          92.000000\n",
       "dtype: float64"
      ]
     },
     "execution_count": 40,
     "metadata": {},
     "output_type": "execute_result"
    }
   ],
   "source": [
    "# 統計情報確認\n",
    "period.describe()"
   ]
  },
  {
   "cell_type": "code",
   "execution_count": 41,
   "metadata": {},
   "outputs": [],
   "source": [
    "# 標準化する\n",
    "from sklearn.preprocessing import StandardScaler\n",
    "stdsc = StandardScaler() # インスタンス生成\n",
    "period_stdsc = stdsc.fit_transform(period.values.reshape(-1,1))\n",
    "# 列追加\n",
    "new_df['period_sdsc'] = period_stdsc"
   ]
  },
  {
   "cell_type": "code",
   "execution_count": 42,
   "metadata": {},
   "outputs": [],
   "source": [
    "# # 標準化しない場合\n",
    "# new_df['period'] = period"
   ]
  },
  {
   "cell_type": "code",
   "execution_count": 43,
   "metadata": {},
   "outputs": [
    {
     "data": {
      "image/png": "[encoded data removed]",
      "text/plain": [
       "<Figure size 432x288 with 1 Axes>"
      ]
     },
     "metadata": {
      "needs_background": "light"
     },
     "output_type": "display_data"
    }
   ],
   "source": [
    "# successfulとfaildの可視化\n",
    "successful = new_df[new_df['state'] == 1.0]['period_sdsc']\n",
    "failed = new_df[new_df['state'] == 0.0]['period_sdsc']\n",
    "# successful = new_df[new_df['state'] == 1.0]['period']\n",
    "# failed = new_df[new_df['state'] == 0.0]['period']\n",
    "sns.distplot(successful, color='red', kde=False)\n",
    "sns.distplot(failed, color='blue',kde=False)\n",
    "plt.show()"
   ]
  },
  {
   "cell_type": "markdown",
   "metadata": {},
   "source": [
    "----------------------------\n",
    "### 8. 不要な列の削除\n",
    "----------------------------"
   ]
  },
  {
   "cell_type": "code",
   "execution_count": 44,
   "metadata": {},
   "outputs": [
    {
     "data": {
      "text/plain": [
       "Index(['ID', 'name', 'category', 'main_category', 'currency', 'deadline',\n",
       "       'goal', 'launched', 'pledged', 'state', 'backers', 'country',\n",
       "       'usd pledged', 'usd_pledged_real', 'usd_goal_real', 'Art', 'Comics',\n",
       "       'Crafts', 'Dance', 'Design', 'Fashion', 'Film & Video', 'Food', 'Games',\n",
       "       'Journalism', 'Music', 'Photography', 'Publishing', 'Technology',\n",
       "       'Theater', 'AUD', 'CAD', 'CHF', 'DKK', 'EUR', 'GBP', 'HKD', 'JPY',\n",
       "       'MXN', 'NOK', 'NZD', 'SEK', 'SGD', 'USD', 'goal_stdsc', 'period',\n",
       "       'period_sdsc'],\n",
       "      dtype='object')"
      ]
     },
     "execution_count": 44,
     "metadata": {},
     "output_type": "execute_result"
    }
   ],
   "source": [
    "# 列一覧表示\n",
    "new_df.columns"
   ]
  },
  {
   "cell_type": "code",
   "execution_count": 45,
   "metadata": {},
   "outputs": [],
   "source": [
    "# 削除するカラムリスト作成\n",
    "drop_colums = [\n",
    "    'ID', 'name', 'category', 'main_category', 'currency', 'deadline',\n",
    "    'goal', 'launched', 'pledged', \n",
    "#     'state', \n",
    "    'backers', 'country',\n",
    "    'usd pledged', 'usd_pledged_real', 'usd_goal_real', \n",
    "#     'Art', 'Comics',\n",
    "#     'Crafts', 'Dance', 'Design', 'Fashion', 'Film & Video', 'Food', 'Games',\n",
    "#     'Journalism', 'Music', 'Photography', 'Publishing', 'Technology',\n",
    "#     'Theater', 'AUD', 'CAD', 'CHF', 'DKK', 'EUR', 'GBP', 'HKD', 'JPY',\n",
    "#     'MXN', 'NOK', 'NZD', 'SEK', 'SGD', 'USD', \n",
    "#     'goal_stdsc', 'period','period_sdsc'\n",
    "              ]"
   ]
  },
  {
   "cell_type": "code",
   "execution_count": 46,
   "metadata": {},
   "outputs": [],
   "source": [
    "# 入力データXと正解データyの作成\n",
    "# y = new_df['state'].values # 正解データ\n",
    "X = new_df.drop(columns=drop_colums) # 入力データ"
   ]
  },
  {
   "cell_type": "code",
   "execution_count": 47,
   "metadata": {
    "tags": []
   },
   "outputs": [
    {
     "name": "stdout",
     "output_type": "stream",
     "text": [
      "<class 'pandas.core.frame.DataFrame'>\n",
      "RangeIndex: 331675 entries, 0 to 331674\n",
      "Data columns (total 33 columns):\n",
      "state           331675 non-null float64\n",
      "Art             331675 non-null float64\n",
      "Comics          331675 non-null float64\n",
      "Crafts          331675 non-null float64\n",
      "Dance           331675 non-null float64\n",
      "Design          331675 non-null float64\n",
      "Fashion         331675 non-null float64\n",
      "Film & Video    331675 non-null float64\n",
      "Food            331675 non-null float64\n",
      "Games           331675 non-null float64\n",
      "Journalism      331675 non-null float64\n",
      "Music           331675 non-null float64\n",
      "Photography     331675 non-null float64\n",
      "Publishing      331675 non-null float64\n",
      "Technology      331675 non-null float64\n",
      "Theater         331675 non-null float64\n",
      "AUD             331675 non-null float64\n",
      "CAD             331675 non-null float64\n",
      "CHF             331675 non-null float64\n",
      "DKK             331675 non-null float64\n",
      "EUR             331675 non-null float64\n",
      "GBP             331675 non-null float64\n",
      "HKD             331675 non-null float64\n",
      "JPY             331675 non-null float64\n",
      "MXN             331675 non-null float64\n",
      "NOK             331675 non-null float64\n",
      "NZD             331675 non-null float64\n",
      "SEK             331675 non-null float64\n",
      "SGD             331675 non-null float64\n",
      "USD             331675 non-null float64\n",
      "goal_stdsc      331675 non-null float64\n",
      "period          331675 non-null float64\n",
      "period_sdsc     331675 non-null float64\n",
      "dtypes: float64(33)\n",
      "memory usage: 83.5 MB\n"
     ]
    }
   ],
   "source": [
    "# 入力データ確認\n",
    "X.info()"
   ]
  },
  {
   "cell_type": "code",
   "execution_count": 48,
   "metadata": {},
   "outputs": [],
   "source": [
    "# データの一時保存\n",
    "data = new_df.drop(columns=drop_colums)\n",
    "new_df.to_pickle('./kickstarter_day1_df_after_preproccessed.pkl')"
   ]
  },
  {
   "cell_type": "markdown",
   "metadata": {},
   "source": [
    "----------------------------------\n",
    "### 9.0 予測モデル構築\n",
    "----------------------------------"
   ]
  },
  {
   "cell_type": "code",
   "execution_count": 49,
   "metadata": {},
   "outputs": [],
   "source": [
    "# 予測モデルのライブラリインポート\n",
    "from sklearn.linear_model import LogisticRegression\n",
    "from sklearn.model_selection import train_test_split\n",
    "from sklearn import metrics"
   ]
  },
  {
   "cell_type": "code",
   "execution_count": 50,
   "metadata": {
    "tags": []
   },
   "outputs": [
    {
     "name": "stdout",
     "output_type": "stream",
     "text": [
      "Index(['Art', 'Comics', 'Crafts', 'Dance', 'Design', 'Fashion', 'Film & Video',\n",
      "       'Food', 'Games', 'Journalism', 'Music', 'Photography', 'Publishing',\n",
      "       'Technology', 'Theater', 'AUD', 'CAD', 'CHF', 'DKK', 'EUR', 'GBP',\n",
      "       'HKD', 'JPY', 'MXN', 'NOK', 'NZD', 'SEK', 'SGD', 'USD', 'goal_stdsc',\n",
      "       'period', 'period_sdsc'],\n",
      "      dtype='object')\n",
      "Index(['Art', 'Comics', 'Crafts', 'Dance', 'Design', 'Fashion', 'Film & Video',\n",
      "       'Food', 'Games', 'Journalism', 'Music', 'Photography', 'Publishing',\n",
      "       'Technology', 'Theater', 'AUD', 'CAD', 'CHF', 'DKK', 'EUR', 'GBP',\n",
      "       'HKD', 'JPY', 'MXN', 'NOK', 'NZD', 'SEK', 'SGD', 'USD', 'goal_stdsc',\n",
      "       'period', 'period_sdsc'],\n",
      "      dtype='object')\n"
     ]
    }
   ],
   "source": [
    "# データの分割\n",
    "train_X, test_X = train_test_split(X, test_size = 0.3, random_state=9999)\n",
    "# 目的変数の作成\n",
    "train_y = train_X['state']\n",
    "test_y = test_X['state']\n",
    "# 入力データの作成\n",
    "train_X = train_X.drop(['state'], axis=1)\n",
    "test_X = test_X.drop(['state'],axis=1)\n",
    "print(train_X.columns)\n",
    "print(test_X.columns)"
   ]
  },
  {
   "cell_type": "code",
   "execution_count": 51,
   "metadata": {
    "tags": []
   },
   "outputs": [
    {
     "name": "stdout",
     "output_type": "stream",
     "text": [
      "学習データに対する精度: 64.85%\n",
      "予測精度: 64.97%\n"
     ]
    }
   ],
   "source": [
    "# 予測モデル作成\n",
    "lr = LogisticRegression(fit_intercept=True, solver='lbfgs', max_iter=500)\n",
    "# 学習\n",
    "lr.fit(train_X, train_y)\n",
    "# 予測\n",
    "y_est = lr.predict(test_X)\n",
    "y_est_learn = lr.predict(train_X)\n",
    "# 予測精度\n",
    "print('学習データに対する精度: {:.2f}%'.format(metrics.accuracy_score(train_y, y_est_learn)*100))\n",
    "print('予測精度: {:.2f}%'.format(metrics.accuracy_score(test_y, y_est)*100))"
   ]
  },
  {
   "cell_type": "code",
   "execution_count": 52,
   "metadata": {
    "tags": []
   },
   "outputs": [
    {
     "name": "stdout",
     "output_type": "stream",
     "text": [
      "Art : 0.013133604699297684\n",
      "Comics : 0.6816701969578419\n",
      "Crafts : -0.8746729612944035\n",
      "Dance : 0.9829516633481991\n",
      "Design : 0.2449290392291088\n",
      "Fashion : -0.5232584977055156\n",
      "Film & Video : 0.16128246289910997\n",
      "Food : -0.4607553554657255\n",
      "Games : 0.24911539013589876\n",
      "Journalism : -0.7477179533623411\n",
      "Music : 0.4721465993829069\n",
      "Photography : -0.3709658053072537\n",
      "Publishing : -0.2816954194401791\n",
      "Technology : -0.4193681183408346\n",
      "Theater : 0.8850729354659723\n",
      "AUD : -0.3881219397928145\n",
      "CAD : -0.26228445622451924\n",
      "CHF : -0.14742575783229991\n",
      "DKK : 0.467601072324448\n",
      "EUR : -0.49062162966214756\n",
      "GBP : -0.2140216925359837\n",
      "HKD : 0.836598105443689\n",
      "JPY : 0.06367412758319013\n",
      "MXN : 0.04596338737330144\n",
      "NOK : 0.00028566336085929895\n",
      "NZD : -0.28538370078033937\n",
      "SEK : 0.20522002321588256\n",
      "SGD : 0.16630431030391002\n",
      "USD : 0.01408026842435808\n",
      "goal_stdsc : -0.45271260095755794\n",
      "period : -0.012572614600107578\n",
      "period_sdsc : -0.032685550002169717\n"
     ]
    }
   ],
   "source": [
    "# 各学習した係数の表示\n",
    "columns = train_X.columns\n",
    "for idx, value in enumerate(lr.coef_[0]):\n",
    "    print('{} : {}'.format(columns[idx], value))"
   ]
  },
  {
   "cell_type": "code",
   "execution_count": 53,
   "metadata": {},
   "outputs": [],
   "source": [
    "sort_coef = np.sort(lr.coef_[0])[::-1] # 降順に並べ替え\n",
    "sort_idx = np.argsort(lr.coef_[0])[::-1] # 並べ変えたインデックスを取得"
   ]
  },
  {
   "cell_type": "code",
   "execution_count": 54,
   "metadata": {},
   "outputs": [
    {
     "data": {
      "image/png": "[encoded data removed]",
      "text/plain": [
       "<Figure size 720x360 with 1 Axes>"
      ]
     },
     "metadata": {
      "needs_background": "light"
     },
     "output_type": "display_data"
    }
   ],
   "source": [
    "# 学習した係数のランキング\n",
    "plt.figure(figsize=(10,5))\n",
    "plt.bar(columns[sort_idx], sort_coef)\n",
    "plt.grid()\n",
    "plt.grid(which='major', color='black',linestyle=':')\n",
    "plt.grid(which='minor', color='black',linestyle=':')\n",
    "plt.xticks(rotation = 90)\n",
    "plt.xlabel('variable name')\n",
    "plt.ylabel('weight value')\n",
    "plt.show()"
   ]
  },
  {
   "cell_type": "code",
   "execution_count": 55,
   "metadata": {
    "scrolled": true
   },
   "outputs": [
    {
     "data": {
      "image/png": "[encoded data removed]",
      "text/plain": [
       "<Figure size 720x288 with 1 Axes>"
      ]
     },
     "metadata": {
      "needs_background": "light"
     },
     "output_type": "display_data"
    }
   ],
   "source": [
    "# 絶対値でソート\n",
    "sort_abs_coef = np.sort(abs(lr.coef_[0]))[::-1] # 降順に並べ替え\n",
    "sort_abs_idx = np.argsort(abs(lr.coef_[0]))[::-1] # 並べ変えたインデックスを取得\n",
    "# 学習した係数のランキング\n",
    "plt.figure(figsize=(10,4))\n",
    "plt.bar(columns[sort_abs_idx], sort_abs_coef)\n",
    "plt.grid()\n",
    "plt.grid(which='major', color='black',linestyle=':')\n",
    "plt.grid(which='minor', color='black',linestyle=':')\n",
    "plt.xticks(rotation = 90)\n",
    "plt.xlabel('variable name')\n",
    "plt.ylabel('weight value abs')\n",
    "plt.show()"
   ]
  },
  {
   "cell_type": "markdown",
   "metadata": {},
   "source": [
    "係数について\n",
    "- main_category列の上位3つ　：　Dance, Crafts, Theater\n",
    "- cuurency列の上位3つ ：　\"HKD\", \"JPY\", \"EUR\"\n",
    "- goal_stdsc列もほどほどに高い\n",
    "- main_categoryのいくつかはothersでまとめても良いかも"
   ]
  },
  {
   "cell_type": "markdown",
   "metadata": {},
   "source": [
    "----------------------------------------------------------------------------------------------------------------------------------------"
   ]
  },
  {
   "cell_type": "code",
   "execution_count": 56,
   "metadata": {},
   "outputs": [],
   "source": [
    "# new_dfコピー\n",
    "new_df2 = new_df.copy() "
   ]
  },
  {
   "cell_type": "code",
   "execution_count": 57,
   "metadata": {},
   "outputs": [
    {
     "name": "stdout",
     "output_type": "stream",
     "text": [
      "0.2以下のインデックス:15～32\n",
      "Index(['NZD', 'Publishing', 'CAD', 'Games', 'Design', 'GBP', 'SEK', 'SGD',\n",
      "       'Film & Video', 'CHF', 'JPY', 'MXN', 'period_sdsc', 'USD', 'Art',\n",
      "       'period', 'NOK'],\n",
      "      dtype='object')\n"
     ]
    }
   ],
   "source": [
    "# weightの値が0.5以下を消してみる\n",
    "\n",
    "min_value = 0.3\n",
    "\n",
    "for idx, value in enumerate(sort_abs_coef):\n",
    "    if value <= min_value :\n",
    "#         print(idx, value)\n",
    "        break\n",
    "print('0.2以下のインデックス:{}～{}'.format(idx, len(sort_abs_coef)))\n",
    "print(columns[sort_abs_idx][idx:])"
   ]
  },
  {
   "cell_type": "code",
   "execution_count": 58,
   "metadata": {},
   "outputs": [
    {
     "name": "stdout",
     "output_type": "stream",
     "text": [
      "----------------------------\n",
      "■ main_category\n",
      "----------------------------\n",
      "category_others    171498\n",
      "Music               45949\n",
      "Technology          27050\n",
      "Food                22054\n",
      "Fashion             19775\n",
      "Theater             10242\n",
      "Comics               9878\n",
      "Photography          9689\n",
      "Crafts               7818\n",
      "Journalism           4149\n",
      "Dance                3573\n",
      "Name: main_category, dtype: int64\n",
      "----------------------------\n",
      "■ currency:\n",
      "----------------------------\n",
      "currency_others    295598\n",
      "EUR                 14378\n",
      "CAD                 12375\n",
      "AUD                  6621\n",
      "NZD                  1274\n",
      "DKK                   929\n",
      "HKD                   477\n",
      "JPY                    23\n",
      "Name: currency, dtype: int64\n"
     ]
    }
   ],
   "source": [
    "# main_categoryについて処理\n",
    "# othersでまとめる\n",
    "new_df2.loc[new_df2['main_category'].isin(['Publishing','Games','Design', 'Film & Video','Art']), 'main_category'] = 'category_others'\n",
    "print('----------------------------')\n",
    "print('■ main_category')\n",
    "print('----------------------------')\n",
    "print(new_df2['main_category'].value_counts())\n",
    "# currencyについて処理\n",
    "# othersでまとめる\n",
    "new_df2.loc[new_df2['currency'].isin(['GBP', 'CHF', 'NOK', 'SEK', 'NOK','SGD', 'USD', 'MXN']), 'currency'] = 'currency_others'\n",
    "print('----------------------------')\n",
    "print('■ currency:')\n",
    "print('----------------------------')\n",
    "print(new_df2['currency'].value_counts())"
   ]
  },
  {
   "cell_type": "code",
   "execution_count": 59,
   "metadata": {
    "tags": []
   },
   "outputs": [
    {
     "name": "stdout",
     "output_type": "stream",
     "text": [
      "[0. 0. 0. 0. 0. 0. 0. 0. 0. 0. 1.]\n"
     ]
    },
    {
     "data": {
      "text/plain": [
       "array(['ID', 'name', 'category', 'main_category', 'currency', 'deadline',\n",
       "       'goal', 'launched', 'pledged', 'state', 'backers', 'country',\n",
       "       'usd pledged', 'usd_pledged_real', 'usd_goal_real', 'Art',\n",
       "       'Comics', 'Crafts', 'Dance', 'Design', 'Fashion', 'Film & Video',\n",
       "       'Food', 'Games', 'Journalism', 'Music', 'Photography',\n",
       "       'Publishing', 'Technology', 'Theater', 'AUD', 'CAD', 'CHF', 'DKK',\n",
       "       'EUR', 'GBP', 'HKD', 'JPY', 'MXN', 'NOK', 'NZD', 'SEK', 'SGD',\n",
       "       'USD', 'goal_stdsc', 'period', 'period_sdsc', 'Comics_2',\n",
       "       'Crafts_2', 'Dance_2', 'Fashion_2', 'Food_2', 'Journalism_2',\n",
       "       'Music_2', 'Photography_2', 'Technology_2', 'Theater_2',\n",
       "       'category_others_2'], dtype=object)"
      ]
     },
     "execution_count": 59,
     "metadata": {},
     "output_type": "execute_result"
    }
   ],
   "source": [
    "# OnehotEncorder\n",
    "from sklearn.preprocessing import OneHotEncoder\n",
    "enc = OneHotEncoder(sparse=False)\n",
    "# reshapeで2次元配列に変換\n",
    "enc.fit(new_df2['main_category'].values.reshape(-1,1))\n",
    "\n",
    "# numpy配列として出力\n",
    "arr = enc.transform(new_df2['main_category'].values.reshape(-1,1))\n",
    "print(arr[0,:]) # ダミー変数化できたか確認\n",
    "\n",
    "# new_dfに代入\n",
    "tmp_df = pd.DataFrame(arr, columns=enc.categories_[0] + '_2')\n",
    "new_df2 = pd.concat([new_df2, tmp_df], axis=1)\n",
    "# 確認\n",
    "new_df2.columns.values"
   ]
  },
  {
   "cell_type": "code",
   "execution_count": 60,
   "metadata": {},
   "outputs": [
    {
     "name": "stdout",
     "output_type": "stream",
     "text": [
      "[0. 0. 0. 0. 0. 0. 0. 1.]\n"
     ]
    },
    {
     "data": {
      "text/plain": [
       "array(['ID', 'name', 'category', 'main_category', 'currency', 'deadline',\n",
       "       'goal', 'launched', 'pledged', 'state', 'backers', 'country',\n",
       "       'usd pledged', 'usd_pledged_real', 'usd_goal_real', 'Art',\n",
       "       'Comics', 'Crafts', 'Dance', 'Design', 'Fashion', 'Film & Video',\n",
       "       'Food', 'Games', 'Journalism', 'Music', 'Photography',\n",
       "       'Publishing', 'Technology', 'Theater', 'AUD', 'CAD', 'CHF', 'DKK',\n",
       "       'EUR', 'GBP', 'HKD', 'JPY', 'MXN', 'NOK', 'NZD', 'SEK', 'SGD',\n",
       "       'USD', 'goal_stdsc', 'period', 'period_sdsc', 'Comics_2',\n",
       "       'Crafts_2', 'Dance_2', 'Fashion_2', 'Food_2', 'Journalism_2',\n",
       "       'Music_2', 'Photography_2', 'Technology_2', 'Theater_2',\n",
       "       'category_others_2', 'AUD_2', 'CAD_2', 'DKK_2', 'EUR_2', 'HKD_2',\n",
       "       'JPY_2', 'NZD_2', 'currency_others_2'], dtype=object)"
      ]
     },
     "execution_count": 60,
     "metadata": {},
     "output_type": "execute_result"
    }
   ],
   "source": [
    "# OnehotEncorder\n",
    "from sklearn.preprocessing import OneHotEncoder\n",
    "enc = OneHotEncoder(sparse=False)\n",
    "# reshapeで2次元配列に変換\n",
    "enc.fit(new_df2['currency'].values.reshape(-1,1))\n",
    "\n",
    "# numpy配列として出力\n",
    "arr = enc.transform(new_df2['currency'].values.reshape(-1,1))\n",
    "print(arr[0,:]) # ダミー変数化できたか確認\n",
    "\n",
    "# new_dfに代入\n",
    "tmp_df = pd.DataFrame(arr, columns=enc.categories_[0] + '_2')\n",
    "new_df2 = pd.concat([new_df2, tmp_df], axis=1)\n",
    "# 確認\n",
    "new_df2.columns.values"
   ]
  },
  {
   "cell_type": "code",
   "execution_count": 61,
   "metadata": {},
   "outputs": [
    {
     "data": {
      "text/plain": [
       "Index(['state', 'goal_stdsc', 'period', 'period_sdsc', 'Comics_2', 'Crafts_2',\n",
       "       'Dance_2', 'Fashion_2', 'Food_2', 'Journalism_2', 'Music_2',\n",
       "       'Photography_2', 'Technology_2', 'Theater_2', 'AUD_2', 'CAD_2', 'DKK_2',\n",
       "       'EUR_2', 'HKD_2', 'JPY_2', 'NZD_2'],\n",
       "      dtype='object')"
      ]
     },
     "execution_count": 61,
     "metadata": {},
     "output_type": "execute_result"
    }
   ],
   "source": [
    "# 削除するカラム設定\n",
    "drop_columns_2 = ['ID', 'name', 'category', 'main_category', 'currency', 'deadline',\n",
    "       'goal', 'launched', 'pledged', \n",
    "#         'state', \n",
    "        'backers', 'country',\n",
    "       'usd pledged', 'usd_pledged_real', 'usd_goal_real', 'Art',\n",
    "       'Comics', 'Crafts', 'Dance', 'Design', 'Fashion', 'Film & Video',\n",
    "       'Food', 'Games', 'Journalism', 'Music', 'Photography',\n",
    "       'Publishing', 'Technology', 'Theater', 'AUD', 'CAD', 'CHF', 'DKK',\n",
    "       'EUR', 'GBP', 'HKD', 'JPY', 'MXN', 'NOK', 'NZD', 'SEK', 'SGD',\n",
    "       'USD', \n",
    "#         'goal_stdsc', 'period_sdsc', 'Comics_2', 'Crafts_2',\n",
    "#        'Dance_2', 'Fashion_2', 'Food_2', 'Journalism_2', 'Music_2',\n",
    "#        'Photography_2', 'Technology_2', 'Theater_2', \n",
    "        'category_others_2',\n",
    "#        'AUD_2', 'CAD_2', 'DKK_2', 'EUR_2', 'HKD_2', 'JPY_2', 'NZD_2',\n",
    "        'currency_others_2'\n",
    "                 ]\n",
    "# 新しい入力データ\n",
    "X_2 = new_df2.drop(columns=drop_columns_2,axis=1)\n",
    "new_df2.to_pickle('./kickstarter_day1_df_after_preproccessed_dropcolumn.pkl')\n",
    "X_2.columns"
   ]
  },
  {
   "cell_type": "code",
   "execution_count": 62,
   "metadata": {
    "tags": []
   },
   "outputs": [
    {
     "name": "stdout",
     "output_type": "stream",
     "text": [
      "Index(['goal_stdsc', 'period', 'period_sdsc', 'Comics_2', 'Crafts_2',\n",
      "       'Dance_2', 'Fashion_2', 'Food_2', 'Journalism_2', 'Music_2',\n",
      "       'Photography_2', 'Technology_2', 'Theater_2', 'AUD_2', 'CAD_2', 'DKK_2',\n",
      "       'EUR_2', 'HKD_2', 'JPY_2', 'NZD_2'],\n",
      "      dtype='object')\n",
      "Index(['goal_stdsc', 'period', 'period_sdsc', 'Comics_2', 'Crafts_2',\n",
      "       'Dance_2', 'Fashion_2', 'Food_2', 'Journalism_2', 'Music_2',\n",
      "       'Photography_2', 'Technology_2', 'Theater_2', 'AUD_2', 'CAD_2', 'DKK_2',\n",
      "       'EUR_2', 'HKD_2', 'JPY_2', 'NZD_2'],\n",
      "      dtype='object')\n"
     ]
    }
   ],
   "source": [
    "# データの分割\n",
    "train_X, test_X = train_test_split(X_2, test_size = 0.3, random_state=9999)\n",
    "# 目的変数の作成\n",
    "train_y = train_X['state']\n",
    "test_y = test_X['state']\n",
    "# 入力データの作成\n",
    "train_X = train_X.drop(['state'], axis=1)\n",
    "test_X = test_X.drop(['state'],axis=1)\n",
    "print(train_X.columns)\n",
    "print(test_X.columns)"
   ]
  },
  {
   "cell_type": "code",
   "execution_count": 63,
   "metadata": {
    "scrolled": true,
    "tags": []
   },
   "outputs": [
    {
     "name": "stdout",
     "output_type": "stream",
     "text": [
      "学習データに対する精度: 64.63%\n",
      "予測精度: 64.66%\n",
      "Art : -0.424774085837781\n",
      "Comics : -0.01087461417566188\n",
      "Crafts : -0.05421902590908307\n",
      "Dance : 0.6139717994095139\n",
      "Design : -0.9348139015420377\n",
      "Fashion : 0.8797530803652549\n",
      "Film & Video : -0.603363336358757\n",
      "Food : -0.5253512509981163\n",
      "Games : -0.8017203208116296\n",
      "Journalism : 0.41307159449137454\n",
      "Music : -0.44126781608456755\n",
      "Photography : -0.5049033756550255\n",
      "Publishing : 0.7977498852874221\n",
      "Technology : -0.36818516716145044\n",
      "Theater : -0.25040994874613165\n",
      "AUD : 0.4296718545895252\n",
      "CAD : -0.4513363828042007\n",
      "CHF : 0.6814029560711334\n",
      "DKK : 0.03987208691342575\n",
      "EUR : -0.27210148596741307\n"
     ]
    }
   ],
   "source": [
    "# 予測モデル作成\n",
    "lr2 = LogisticRegression(fit_intercept=True, solver='lbfgs', max_iter=300)\n",
    "# 学習\n",
    "lr2.fit(train_X, train_y)\n",
    "# 予測\n",
    "y_est = lr2.predict(test_X)\n",
    "y_est_learn = lr2.predict(train_X)\n",
    "# 予測精度\n",
    "print('学習データに対する精度: {:.2f}%'.format(metrics.accuracy_score(train_y, y_est_learn)*100))\n",
    "print('予測精度: {:.2f}%'.format(metrics.accuracy_score(test_y, y_est)*100))\n",
    "\n",
    "# 各学習した係数の表示\n",
    "columns2 = train_X.columns\n",
    "for idx, value in enumerate(lr2.coef_[0]):\n",
    "    print('{} : {}'.format(columns[idx], value))"
   ]
  },
  {
   "cell_type": "code",
   "execution_count": 64,
   "metadata": {
    "tags": []
   },
   "outputs": [
    {
     "name": "stdout",
     "output_type": "stream",
     "text": [
      "適合率（Precision） = 59.565%\n",
      "再現率（Recall） = 39.088%\n",
      "F1値（F1-score） = 47.201%\n"
     ]
    }
   ],
   "source": [
    "# Precision, Recall, F1-scoreを計算\n",
    "from sklearn.metrics import precision_recall_fscore_support, confusion_matrix\n",
    "precision, recall, f1_score, _ = precision_recall_fscore_support(test_y, y_est)\n",
    "\n",
    "# Precision, Recall, F1-scoreを表示\n",
    "print('適合率（Precision） = {:.3f}%'.format(100 * precision[1]))\n",
    "print('再現率（Recall） = {:.3f}%'.format(100 * recall[1]))\n",
    "print('F1値（F1-score） = {:.3f}%'.format(100 * f1_score[1]))"
   ]
  },
  {
   "cell_type": "code",
   "execution_count": 65,
   "metadata": {},
   "outputs": [
    {
     "data": {
      "text/html": [
       "<div>\n",
       "<style scoped>\n",
       "    .dataframe tbody tr th:only-of-type {\n",
       "        vertical-align: middle;\n",
       "    }\n",
       "\n",
       "    .dataframe tbody tr th {\n",
       "        vertical-align: top;\n",
       "    }\n",
       "\n",
       "    .dataframe thead th {\n",
       "        text-align: right;\n",
       "    }\n",
       "</style>\n",
       "<table border=\"1\" class=\"dataframe\">\n",
       "  <thead>\n",
       "    <tr style=\"text-align: right;\">\n",
       "      <th></th>\n",
       "      <th>0</th>\n",
       "      <th>1</th>\n",
       "    </tr>\n",
       "  </thead>\n",
       "  <tbody>\n",
       "    <tr>\n",
       "      <td>0</td>\n",
       "      <td>48621</td>\n",
       "      <td>10670</td>\n",
       "    </tr>\n",
       "    <tr>\n",
       "      <td>1</td>\n",
       "      <td>24494</td>\n",
       "      <td>15718</td>\n",
       "    </tr>\n",
       "  </tbody>\n",
       "</table>\n",
       "</div>"
      ],
      "text/plain": [
       "       0      1\n",
       "0  48621  10670\n",
       "1  24494  15718"
      ]
     },
     "execution_count": 65,
     "metadata": {},
     "output_type": "execute_result"
    }
   ],
   "source": [
    "# 予測値と正解のクロス集計（混同行列）\n",
    "conf_mat = confusion_matrix(test_y, y_est)\n",
    "conf_mat = pd.DataFrame(conf_mat#, \n",
    "                        # index=['正解 = failed', '正解 = successful'], \n",
    "                        # columns=['予測 = failed', '予測 = successful']\n",
    "                        )\n",
    "conf_mat"
   ]
  },
  {
   "cell_type": "markdown",
   "metadata": {},
   "source": [
    "|                        | 全カラム使用した場合 | カラム削減した場合   |\n",
    "| ---------------------- | -------------------- | -------------------- |\n",
    "|学習データに対する精度  | 64.83%               | 64.64%               |\n",
    "|テストデータに対する精度| 64.96%               | 64.67%               |\n"
   ]
  },
  {
   "cell_type": "code",
   "execution_count": null,
   "metadata": {},
   "outputs": [],
   "source": []
  }
 ],
 "metadata": {
  "kernelspec": {
   "display_name": "Python 3.7.4 64-bit ('base': conda)",
   "language": "python",
   "name": "python37464bitbasecondaa456a6740d7e490db9ca4374186e9e5a"
  },
  "language_info": {
   "codemirror_mode": {
    "name": "ipython",
    "version": 3
   },
   "file_extension": ".py",
   "mimetype": "text/x-python",
   "name": "python",
   "nbconvert_exporter": "python",
   "pygments_lexer": "ipython3",
   "version": "3.7.4"
  }
 },
 "nbformat": 4,
 "nbformat_minor": 4
}
