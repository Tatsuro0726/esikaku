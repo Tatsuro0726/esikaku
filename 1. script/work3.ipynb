{
 "cells": [
  {
   "cell_type": "markdown",
   "metadata": {},
   "source": [
    "## 通し課題\n",
    "### kaggle: kickstarter\n",
    "\n",
    "データ : ks-projects-201801  \n",
    "問題 : 目的変数をstateとする分類  \n",
    "URL : https://www.kaggle.com/kemical/kickstarter-projects"
   ]
  },
  {
   "cell_type": "markdown",
   "metadata": {},
   "source": [
    "--------------------------------------------------------"
   ]
  },
  {
   "cell_type": "code",
   "execution_count": 23,
   "metadata": {},
   "outputs": [],
   "source": [
    "# Module Import; basic\n",
    "import pandas as pd\n",
    "import numpy as np\n",
    "from matplotlib import pyplot as plt\n",
    "import seaborn as sns\n",
    "%matplotlib inline\n",
    "\n",
    "# model\n",
    "from sklearn.linear_model import LogisticRegression\n",
    "\n",
    "# preprocessing\n",
    "from sklearn.preprocessing import OneHotEncoder\n",
    "\n",
    "# train_test_split\n",
    "from sklearn.model_selection import train_test_split\n",
    "\n",
    "# model evaluation\n",
    "from sklearn.metrics import accuracy_score\n",
    "\n",
    "# other module\n",
    "import pickle"
   ]
  },
  {
   "cell_type": "code",
   "execution_count": 2,
   "metadata": {},
   "outputs": [
    {
     "data": {
      "text/html": [
       "<div>\n",
       "<style scoped>\n",
       "    .dataframe tbody tr th:only-of-type {\n",
       "        vertical-align: middle;\n",
       "    }\n",
       "\n",
       "    .dataframe tbody tr th {\n",
       "        vertical-align: top;\n",
       "    }\n",
       "\n",
       "    .dataframe thead th {\n",
       "        text-align: right;\n",
       "    }\n",
       "</style>\n",
       "<table border=\"1\" class=\"dataframe\">\n",
       "  <thead>\n",
       "    <tr style=\"text-align: right;\">\n",
       "      <th></th>\n",
       "      <th>ID</th>\n",
       "      <th>name</th>\n",
       "      <th>category</th>\n",
       "      <th>main_category</th>\n",
       "      <th>currency</th>\n",
       "      <th>deadline</th>\n",
       "      <th>goal</th>\n",
       "      <th>launched</th>\n",
       "      <th>pledged</th>\n",
       "      <th>state</th>\n",
       "      <th>backers</th>\n",
       "      <th>country</th>\n",
       "      <th>usd pledged</th>\n",
       "      <th>usd_pledged_real</th>\n",
       "      <th>usd_goal_real</th>\n",
       "    </tr>\n",
       "  </thead>\n",
       "  <tbody>\n",
       "    <tr>\n",
       "      <td>0</td>\n",
       "      <td>1000002330</td>\n",
       "      <td>The Songs of Adelaide &amp; Abullah</td>\n",
       "      <td>Poetry</td>\n",
       "      <td>Publishing</td>\n",
       "      <td>GBP</td>\n",
       "      <td>2015-10-09</td>\n",
       "      <td>1000.0</td>\n",
       "      <td>2015-08-11 12:12:28</td>\n",
       "      <td>0.0</td>\n",
       "      <td>failed</td>\n",
       "      <td>0</td>\n",
       "      <td>GB</td>\n",
       "      <td>0.0</td>\n",
       "      <td>0.0</td>\n",
       "      <td>1533.95</td>\n",
       "    </tr>\n",
       "    <tr>\n",
       "      <td>1</td>\n",
       "      <td>1000003930</td>\n",
       "      <td>Greeting From Earth: ZGAC Arts Capsule For ET</td>\n",
       "      <td>Narrative Film</td>\n",
       "      <td>Film &amp; Video</td>\n",
       "      <td>USD</td>\n",
       "      <td>2017-11-01</td>\n",
       "      <td>30000.0</td>\n",
       "      <td>2017-09-02 04:43:57</td>\n",
       "      <td>2421.0</td>\n",
       "      <td>failed</td>\n",
       "      <td>15</td>\n",
       "      <td>US</td>\n",
       "      <td>100.0</td>\n",
       "      <td>2421.0</td>\n",
       "      <td>30000.00</td>\n",
       "    </tr>\n",
       "    <tr>\n",
       "      <td>2</td>\n",
       "      <td>1000004038</td>\n",
       "      <td>Where is Hank?</td>\n",
       "      <td>Narrative Film</td>\n",
       "      <td>Film &amp; Video</td>\n",
       "      <td>USD</td>\n",
       "      <td>2013-02-26</td>\n",
       "      <td>45000.0</td>\n",
       "      <td>2013-01-12 00:20:50</td>\n",
       "      <td>220.0</td>\n",
       "      <td>failed</td>\n",
       "      <td>3</td>\n",
       "      <td>US</td>\n",
       "      <td>220.0</td>\n",
       "      <td>220.0</td>\n",
       "      <td>45000.00</td>\n",
       "    </tr>\n",
       "  </tbody>\n",
       "</table>\n",
       "</div>"
      ],
      "text/plain": [
       "           ID                                           name        category  \\\n",
       "0  1000002330                The Songs of Adelaide & Abullah          Poetry   \n",
       "1  1000003930  Greeting From Earth: ZGAC Arts Capsule For ET  Narrative Film   \n",
       "2  1000004038                                 Where is Hank?  Narrative Film   \n",
       "\n",
       "  main_category currency    deadline     goal             launched  pledged  \\\n",
       "0    Publishing      GBP  2015-10-09   1000.0  2015-08-11 12:12:28      0.0   \n",
       "1  Film & Video      USD  2017-11-01  30000.0  2017-09-02 04:43:57   2421.0   \n",
       "2  Film & Video      USD  2013-02-26  45000.0  2013-01-12 00:20:50    220.0   \n",
       "\n",
       "    state  backers country  usd pledged  usd_pledged_real  usd_goal_real  \n",
       "0  failed        0      GB          0.0               0.0        1533.95  \n",
       "1  failed       15      US        100.0            2421.0       30000.00  \n",
       "2  failed        3      US        220.0             220.0       45000.00  "
      ]
     },
     "execution_count": 2,
     "metadata": {},
     "output_type": "execute_result"
    }
   ],
   "source": [
    "# データ読み込み\n",
    "df = pd.read_csv('./ks-projects-201801.csv')\n",
    "df.head(3)"
   ]
  },
  {
   "cell_type": "code",
   "execution_count": 3,
   "metadata": {},
   "outputs": [
    {
     "name": "stdout",
     "output_type": "stream",
     "text": [
      "failed        197719\n",
      "successful    133956\n",
      "Name: state, dtype: int64\n",
      "331675\n"
     ]
    }
   ],
   "source": [
    "# 2種類(failed, successful)のみを抽出する\n",
    "failed = df[df['state'] == 'failed']\n",
    "successful = df[df['state'] == 'successful']\n",
    "data = pd.concat([failed, successful],ignore_index=True)\n",
    "# 検算\n",
    "print(data['state'].value_counts())\n",
    "print(data['state'].value_counts().sum())"
   ]
  },
  {
   "cell_type": "code",
   "execution_count": 4,
   "metadata": {},
   "outputs": [
    {
     "name": "stdout",
     "output_type": "stream",
     "text": [
      "<class 'numpy.float64'>\n"
     ]
    }
   ],
   "source": [
    "# failed: successful:1\n",
    "data.loc[data['state'] == 'failed', 'state'] = 0\n",
    "data.loc[data['state'] == 'successful', 'state'] = 1\n",
    "# float型に変換\n",
    "data['state'] = data['state'].astype('float')\n",
    "print(type(data['state'][0]))"
   ]
  },
  {
   "cell_type": "code",
   "execution_count": 5,
   "metadata": {},
   "outputs": [
    {
     "data": {
      "text/plain": [
       "array(['ID', 'name', 'category', 'main_category', 'currency', 'deadline',\n",
       "       'goal', 'launched', 'pledged', 'state', 'backers', 'country',\n",
       "       'usd pledged', 'usd_pledged_real', 'usd_goal_real', 'Art',\n",
       "       'Comics', 'Crafts', 'Dance', 'Design', 'Fashion', 'Film & Video',\n",
       "       'Food', 'Games', 'Journalism', 'Music', 'Photography',\n",
       "       'Publishing', 'Technology', 'Theater'], dtype=object)"
      ]
     },
     "execution_count": 5,
     "metadata": {},
     "output_type": "execute_result"
    }
   ],
   "source": [
    "# one-hot-encoding ダミー変数化\n",
    "enc = OneHotEncoder(sparse=False)\n",
    "# 2次元配列に変換\n",
    "# numpy配列として出力\n",
    "arr = enc.fit_transform(data['main_category'].values.reshape(-1,1))\n",
    "tmp = pd.DataFrame(arr, columns=enc.categories_[0])\n",
    "data = pd.concat([data, tmp], axis=1)\n",
    "# 確認\n",
    "data.columns.values"
   ]
  },
  {
   "cell_type": "code",
   "execution_count": 6,
   "metadata": {},
   "outputs": [
    {
     "data": {
      "text/plain": [
       "array(['ID', 'name', 'category', 'main_category', 'currency', 'deadline',\n",
       "       'goal', 'launched', 'pledged', 'state', 'backers', 'country',\n",
       "       'usd pledged', 'usd_pledged_real', 'usd_goal_real', 'Art',\n",
       "       'Comics', 'Crafts', 'Dance', 'Design', 'Fashion', 'Film & Video',\n",
       "       'Food', 'Games', 'Journalism', 'Music', 'Photography',\n",
       "       'Publishing', 'Technology', 'Theater', 'AUD', 'CAD', 'CHF', 'DKK',\n",
       "       'EUR', 'GBP', 'HKD', 'JPY', 'MXN', 'NOK', 'NZD', 'SEK', 'SGD',\n",
       "       'USD'], dtype=object)"
      ]
     },
     "execution_count": 6,
     "metadata": {},
     "output_type": "execute_result"
    }
   ],
   "source": [
    "# One-hot-Encorder\n",
    "enc = OneHotEncoder(sparse=False)\n",
    "# 2次元配列に変換\n",
    "# numpy配列として出力\n",
    "arr = enc.fit_transform(data['currency'].values.reshape(-1,1))\n",
    "tmp = pd.DataFrame(arr, columns=enc.categories_[0])\n",
    "data = pd.concat([data, tmp], axis=1)\n",
    "# 確認\n",
    "data.columns.values"
   ]
  },
  {
   "cell_type": "code",
   "execution_count": 7,
   "metadata": {},
   "outputs": [
    {
     "name": "stdout",
     "output_type": "stream",
     "text": [
      "<class 'numpy.float64'>\n"
     ]
    }
   ],
   "source": [
    "# date型へ変換\n",
    "deadline = pd.to_datetime(data['deadline'], format='%Y-%m-%d')\n",
    "launched = pd.to_datetime(data['launched'], format='%Y-%m-%d').dt.floor('D') # 日付で切り捨て\n",
    "# 期間算出\n",
    "period = deadline - launched\n",
    "# timedelta64 ⇒ int ⇒ float\n",
    "period = period.dt.days.astype('float')\n",
    "data['period'] = period\n",
    "print(type(data['period'][0]))"
   ]
  },
  {
   "cell_type": "code",
   "execution_count": 8,
   "metadata": {},
   "outputs": [
    {
     "data": {
      "text/plain": [
       "Index(['ID', 'name', 'category', 'main_category', 'currency', 'deadline',\n",
       "       'goal', 'launched', 'pledged', 'state', 'backers', 'country',\n",
       "       'usd pledged', 'usd_pledged_real', 'usd_goal_real', 'Art', 'Comics',\n",
       "       'Crafts', 'Dance', 'Design', 'Fashion', 'Film & Video', 'Food', 'Games',\n",
       "       'Journalism', 'Music', 'Photography', 'Publishing', 'Technology',\n",
       "       'Theater', 'AUD', 'CAD', 'CHF', 'DKK', 'EUR', 'GBP', 'HKD', 'JPY',\n",
       "       'MXN', 'NOK', 'NZD', 'SEK', 'SGD', 'USD', 'period'],\n",
       "      dtype='object')"
      ]
     },
     "execution_count": 8,
     "metadata": {},
     "output_type": "execute_result"
    }
   ],
   "source": [
    "data.columns"
   ]
  },
  {
   "cell_type": "code",
   "execution_count": 9,
   "metadata": {},
   "outputs": [],
   "source": [
    "# 不要な列リスト作成\n",
    "drop_columns = [\n",
    "        'ID', 'name', 'category', 'main_category', 'currency', 'deadline',\n",
    "#         'goal', \n",
    "        'launched', 'pledged', \n",
    "#         'state', \n",
    "        'backers', 'country',\n",
    "        'usd pledged', 'usd_pledged_real', 'usd_goal_real', \n",
    "#         'Art', 'Comics','Crafts', 'Dance', 'Design', 'Fashion', 'Film & Video', 'Food', 'Games',\n",
    "#         'Journalism', 'Music', 'Photography', 'Publishing', 'Technology', 'Theater', \n",
    "#         'AUD', 'CAD', 'CHF', 'DKK', 'EUR', 'GBP', 'HKD', 'JPY',\n",
    "#         'MXN', 'NOK', 'NZD', 'SEK', 'SGD', 'USD', 'period'\n",
    "    ]"
   ]
  },
  {
   "cell_type": "code",
   "execution_count": 10,
   "metadata": {},
   "outputs": [
    {
     "data": {
      "text/html": [
       "<div>\n",
       "<style scoped>\n",
       "    .dataframe tbody tr th:only-of-type {\n",
       "        vertical-align: middle;\n",
       "    }\n",
       "\n",
       "    .dataframe tbody tr th {\n",
       "        vertical-align: top;\n",
       "    }\n",
       "\n",
       "    .dataframe thead th {\n",
       "        text-align: right;\n",
       "    }\n",
       "</style>\n",
       "<table border=\"1\" class=\"dataframe\">\n",
       "  <thead>\n",
       "    <tr style=\"text-align: right;\">\n",
       "      <th></th>\n",
       "      <th>goal</th>\n",
       "      <th>state</th>\n",
       "      <th>Art</th>\n",
       "      <th>Comics</th>\n",
       "      <th>Crafts</th>\n",
       "      <th>Dance</th>\n",
       "      <th>Design</th>\n",
       "      <th>Fashion</th>\n",
       "      <th>Film &amp; Video</th>\n",
       "      <th>Food</th>\n",
       "      <th>...</th>\n",
       "      <th>GBP</th>\n",
       "      <th>HKD</th>\n",
       "      <th>JPY</th>\n",
       "      <th>MXN</th>\n",
       "      <th>NOK</th>\n",
       "      <th>NZD</th>\n",
       "      <th>SEK</th>\n",
       "      <th>SGD</th>\n",
       "      <th>USD</th>\n",
       "      <th>period</th>\n",
       "    </tr>\n",
       "  </thead>\n",
       "  <tbody>\n",
       "    <tr>\n",
       "      <td>0</td>\n",
       "      <td>1000.0</td>\n",
       "      <td>0.0</td>\n",
       "      <td>0.0</td>\n",
       "      <td>0.0</td>\n",
       "      <td>0.0</td>\n",
       "      <td>0.0</td>\n",
       "      <td>0.0</td>\n",
       "      <td>0.0</td>\n",
       "      <td>0.0</td>\n",
       "      <td>0.0</td>\n",
       "      <td>...</td>\n",
       "      <td>1.0</td>\n",
       "      <td>0.0</td>\n",
       "      <td>0.0</td>\n",
       "      <td>0.0</td>\n",
       "      <td>0.0</td>\n",
       "      <td>0.0</td>\n",
       "      <td>0.0</td>\n",
       "      <td>0.0</td>\n",
       "      <td>0.0</td>\n",
       "      <td>59.0</td>\n",
       "    </tr>\n",
       "    <tr>\n",
       "      <td>1</td>\n",
       "      <td>30000.0</td>\n",
       "      <td>0.0</td>\n",
       "      <td>0.0</td>\n",
       "      <td>0.0</td>\n",
       "      <td>0.0</td>\n",
       "      <td>0.0</td>\n",
       "      <td>0.0</td>\n",
       "      <td>0.0</td>\n",
       "      <td>1.0</td>\n",
       "      <td>0.0</td>\n",
       "      <td>...</td>\n",
       "      <td>0.0</td>\n",
       "      <td>0.0</td>\n",
       "      <td>0.0</td>\n",
       "      <td>0.0</td>\n",
       "      <td>0.0</td>\n",
       "      <td>0.0</td>\n",
       "      <td>0.0</td>\n",
       "      <td>0.0</td>\n",
       "      <td>1.0</td>\n",
       "      <td>60.0</td>\n",
       "    </tr>\n",
       "    <tr>\n",
       "      <td>2</td>\n",
       "      <td>45000.0</td>\n",
       "      <td>0.0</td>\n",
       "      <td>0.0</td>\n",
       "      <td>0.0</td>\n",
       "      <td>0.0</td>\n",
       "      <td>0.0</td>\n",
       "      <td>0.0</td>\n",
       "      <td>0.0</td>\n",
       "      <td>1.0</td>\n",
       "      <td>0.0</td>\n",
       "      <td>...</td>\n",
       "      <td>0.0</td>\n",
       "      <td>0.0</td>\n",
       "      <td>0.0</td>\n",
       "      <td>0.0</td>\n",
       "      <td>0.0</td>\n",
       "      <td>0.0</td>\n",
       "      <td>0.0</td>\n",
       "      <td>0.0</td>\n",
       "      <td>1.0</td>\n",
       "      <td>45.0</td>\n",
       "    </tr>\n",
       "    <tr>\n",
       "      <td>3</td>\n",
       "      <td>5000.0</td>\n",
       "      <td>0.0</td>\n",
       "      <td>0.0</td>\n",
       "      <td>0.0</td>\n",
       "      <td>0.0</td>\n",
       "      <td>0.0</td>\n",
       "      <td>0.0</td>\n",
       "      <td>0.0</td>\n",
       "      <td>0.0</td>\n",
       "      <td>0.0</td>\n",
       "      <td>...</td>\n",
       "      <td>0.0</td>\n",
       "      <td>0.0</td>\n",
       "      <td>0.0</td>\n",
       "      <td>0.0</td>\n",
       "      <td>0.0</td>\n",
       "      <td>0.0</td>\n",
       "      <td>0.0</td>\n",
       "      <td>0.0</td>\n",
       "      <td>1.0</td>\n",
       "      <td>30.0</td>\n",
       "    </tr>\n",
       "    <tr>\n",
       "      <td>4</td>\n",
       "      <td>25000.0</td>\n",
       "      <td>0.0</td>\n",
       "      <td>0.0</td>\n",
       "      <td>0.0</td>\n",
       "      <td>0.0</td>\n",
       "      <td>0.0</td>\n",
       "      <td>0.0</td>\n",
       "      <td>0.0</td>\n",
       "      <td>0.0</td>\n",
       "      <td>1.0</td>\n",
       "      <td>...</td>\n",
       "      <td>0.0</td>\n",
       "      <td>0.0</td>\n",
       "      <td>0.0</td>\n",
       "      <td>0.0</td>\n",
       "      <td>0.0</td>\n",
       "      <td>0.0</td>\n",
       "      <td>0.0</td>\n",
       "      <td>0.0</td>\n",
       "      <td>1.0</td>\n",
       "      <td>45.0</td>\n",
       "    </tr>\n",
       "    <tr>\n",
       "      <td>...</td>\n",
       "      <td>...</td>\n",
       "      <td>...</td>\n",
       "      <td>...</td>\n",
       "      <td>...</td>\n",
       "      <td>...</td>\n",
       "      <td>...</td>\n",
       "      <td>...</td>\n",
       "      <td>...</td>\n",
       "      <td>...</td>\n",
       "      <td>...</td>\n",
       "      <td>...</td>\n",
       "      <td>...</td>\n",
       "      <td>...</td>\n",
       "      <td>...</td>\n",
       "      <td>...</td>\n",
       "      <td>...</td>\n",
       "      <td>...</td>\n",
       "      <td>...</td>\n",
       "      <td>...</td>\n",
       "      <td>...</td>\n",
       "      <td>...</td>\n",
       "    </tr>\n",
       "    <tr>\n",
       "      <td>331670</td>\n",
       "      <td>1000.0</td>\n",
       "      <td>1.0</td>\n",
       "      <td>0.0</td>\n",
       "      <td>0.0</td>\n",
       "      <td>0.0</td>\n",
       "      <td>0.0</td>\n",
       "      <td>0.0</td>\n",
       "      <td>0.0</td>\n",
       "      <td>0.0</td>\n",
       "      <td>0.0</td>\n",
       "      <td>...</td>\n",
       "      <td>0.0</td>\n",
       "      <td>0.0</td>\n",
       "      <td>0.0</td>\n",
       "      <td>0.0</td>\n",
       "      <td>0.0</td>\n",
       "      <td>0.0</td>\n",
       "      <td>0.0</td>\n",
       "      <td>0.0</td>\n",
       "      <td>0.0</td>\n",
       "      <td>27.0</td>\n",
       "    </tr>\n",
       "    <tr>\n",
       "      <td>331671</td>\n",
       "      <td>3500.0</td>\n",
       "      <td>1.0</td>\n",
       "      <td>0.0</td>\n",
       "      <td>0.0</td>\n",
       "      <td>0.0</td>\n",
       "      <td>0.0</td>\n",
       "      <td>1.0</td>\n",
       "      <td>0.0</td>\n",
       "      <td>0.0</td>\n",
       "      <td>0.0</td>\n",
       "      <td>...</td>\n",
       "      <td>0.0</td>\n",
       "      <td>0.0</td>\n",
       "      <td>0.0</td>\n",
       "      <td>0.0</td>\n",
       "      <td>0.0</td>\n",
       "      <td>0.0</td>\n",
       "      <td>0.0</td>\n",
       "      <td>0.0</td>\n",
       "      <td>1.0</td>\n",
       "      <td>22.0</td>\n",
       "    </tr>\n",
       "    <tr>\n",
       "      <td>331672</td>\n",
       "      <td>950.0</td>\n",
       "      <td>1.0</td>\n",
       "      <td>0.0</td>\n",
       "      <td>0.0</td>\n",
       "      <td>0.0</td>\n",
       "      <td>0.0</td>\n",
       "      <td>0.0</td>\n",
       "      <td>0.0</td>\n",
       "      <td>0.0</td>\n",
       "      <td>0.0</td>\n",
       "      <td>...</td>\n",
       "      <td>0.0</td>\n",
       "      <td>0.0</td>\n",
       "      <td>0.0</td>\n",
       "      <td>0.0</td>\n",
       "      <td>0.0</td>\n",
       "      <td>0.0</td>\n",
       "      <td>0.0</td>\n",
       "      <td>0.0</td>\n",
       "      <td>1.0</td>\n",
       "      <td>43.0</td>\n",
       "    </tr>\n",
       "    <tr>\n",
       "      <td>331673</td>\n",
       "      <td>5000.0</td>\n",
       "      <td>1.0</td>\n",
       "      <td>0.0</td>\n",
       "      <td>0.0</td>\n",
       "      <td>0.0</td>\n",
       "      <td>0.0</td>\n",
       "      <td>0.0</td>\n",
       "      <td>0.0</td>\n",
       "      <td>0.0</td>\n",
       "      <td>0.0</td>\n",
       "      <td>...</td>\n",
       "      <td>0.0</td>\n",
       "      <td>0.0</td>\n",
       "      <td>0.0</td>\n",
       "      <td>0.0</td>\n",
       "      <td>0.0</td>\n",
       "      <td>0.0</td>\n",
       "      <td>0.0</td>\n",
       "      <td>0.0</td>\n",
       "      <td>0.0</td>\n",
       "      <td>30.0</td>\n",
       "    </tr>\n",
       "    <tr>\n",
       "      <td>331674</td>\n",
       "      <td>20000.0</td>\n",
       "      <td>1.0</td>\n",
       "      <td>0.0</td>\n",
       "      <td>0.0</td>\n",
       "      <td>0.0</td>\n",
       "      <td>0.0</td>\n",
       "      <td>0.0</td>\n",
       "      <td>0.0</td>\n",
       "      <td>1.0</td>\n",
       "      <td>0.0</td>\n",
       "      <td>...</td>\n",
       "      <td>0.0</td>\n",
       "      <td>0.0</td>\n",
       "      <td>0.0</td>\n",
       "      <td>0.0</td>\n",
       "      <td>1.0</td>\n",
       "      <td>0.0</td>\n",
       "      <td>0.0</td>\n",
       "      <td>0.0</td>\n",
       "      <td>0.0</td>\n",
       "      <td>30.0</td>\n",
       "    </tr>\n",
       "  </tbody>\n",
       "</table>\n",
       "<p>331675 rows × 32 columns</p>\n",
       "</div>"
      ],
      "text/plain": [
       "           goal  state  Art  Comics  Crafts  Dance  Design  Fashion  \\\n",
       "0        1000.0    0.0  0.0     0.0     0.0    0.0     0.0      0.0   \n",
       "1       30000.0    0.0  0.0     0.0     0.0    0.0     0.0      0.0   \n",
       "2       45000.0    0.0  0.0     0.0     0.0    0.0     0.0      0.0   \n",
       "3        5000.0    0.0  0.0     0.0     0.0    0.0     0.0      0.0   \n",
       "4       25000.0    0.0  0.0     0.0     0.0    0.0     0.0      0.0   \n",
       "...         ...    ...  ...     ...     ...    ...     ...      ...   \n",
       "331670   1000.0    1.0  0.0     0.0     0.0    0.0     0.0      0.0   \n",
       "331671   3500.0    1.0  0.0     0.0     0.0    0.0     1.0      0.0   \n",
       "331672    950.0    1.0  0.0     0.0     0.0    0.0     0.0      0.0   \n",
       "331673   5000.0    1.0  0.0     0.0     0.0    0.0     0.0      0.0   \n",
       "331674  20000.0    1.0  0.0     0.0     0.0    0.0     0.0      0.0   \n",
       "\n",
       "        Film & Video  Food  ...  GBP  HKD  JPY  MXN  NOK  NZD  SEK  SGD  USD  \\\n",
       "0                0.0   0.0  ...  1.0  0.0  0.0  0.0  0.0  0.0  0.0  0.0  0.0   \n",
       "1                1.0   0.0  ...  0.0  0.0  0.0  0.0  0.0  0.0  0.0  0.0  1.0   \n",
       "2                1.0   0.0  ...  0.0  0.0  0.0  0.0  0.0  0.0  0.0  0.0  1.0   \n",
       "3                0.0   0.0  ...  0.0  0.0  0.0  0.0  0.0  0.0  0.0  0.0  1.0   \n",
       "4                0.0   1.0  ...  0.0  0.0  0.0  0.0  0.0  0.0  0.0  0.0  1.0   \n",
       "...              ...   ...  ...  ...  ...  ...  ...  ...  ...  ...  ...  ...   \n",
       "331670           0.0   0.0  ...  0.0  0.0  0.0  0.0  0.0  0.0  0.0  0.0  0.0   \n",
       "331671           0.0   0.0  ...  0.0  0.0  0.0  0.0  0.0  0.0  0.0  0.0  1.0   \n",
       "331672           0.0   0.0  ...  0.0  0.0  0.0  0.0  0.0  0.0  0.0  0.0  1.0   \n",
       "331673           0.0   0.0  ...  0.0  0.0  0.0  0.0  0.0  0.0  0.0  0.0  0.0   \n",
       "331674           1.0   0.0  ...  0.0  0.0  0.0  0.0  1.0  0.0  0.0  0.0  0.0   \n",
       "\n",
       "        period  \n",
       "0         59.0  \n",
       "1         60.0  \n",
       "2         45.0  \n",
       "3         30.0  \n",
       "4         45.0  \n",
       "...        ...  \n",
       "331670    27.0  \n",
       "331671    22.0  \n",
       "331672    43.0  \n",
       "331673    30.0  \n",
       "331674    30.0  \n",
       "\n",
       "[331675 rows x 32 columns]"
      ]
     },
     "execution_count": 10,
     "metadata": {},
     "output_type": "execute_result"
    }
   ],
   "source": [
    "# 不要な列の削除\n",
    "data2 = data.drop(columns=drop_columns)\n",
    "data2"
   ]
  },
  {
   "cell_type": "code",
   "execution_count": 11,
   "metadata": {},
   "outputs": [],
   "source": [
    "# 学習データ・テストデータの作成\n",
    "train, test = train_test_split(data2.copy(), test_size=0.3)"
   ]
  },
  {
   "cell_type": "code",
   "execution_count": 12,
   "metadata": {},
   "outputs": [],
   "source": [
    "# 学習データの標準化\n",
    "def standard_scale(train, test):\n",
    "    \"\"\"\n",
    "    学習データを使用して教師データを標準化する\n",
    "    train : 学習データ\n",
    "    test  : テストデータ\n",
    "    戻り値: pandas.series\n",
    "    \"\"\"\n",
    "    std = np.std(train.values) # 標準偏差\n",
    "    mean = np.mean(train.values) # 平均\n",
    "    return (test - mean)/std"
   ]
  },
  {
   "cell_type": "code",
   "execution_count": 13,
   "metadata": {},
   "outputs": [
    {
     "name": "stdout",
     "output_type": "stream",
     "text": [
      "平均: 0.00000\n",
      "標準偏差: 1.00000\n",
      "\n",
      "平均: 0.00000\n",
      "標準偏差: 1.00000\n"
     ]
    }
   ],
   "source": [
    "# goalの標準化\n",
    "train['goal_std'] = standard_scale(train['goal'],train['goal'])\n",
    "test['goal_std'] = standard_scale(train['goal'], test['goal'])\n",
    "# 確認\n",
    "print('平均: {:.5f}'.format(np.mean(train['goal_std'].values)))\n",
    "print('標準偏差: {:.5f}'.format(np.var(train['goal_std'].values)))\n",
    "print()\n",
    "# periodの標準化\n",
    "train['period_std'] = standard_scale(train['period'],train['period'])\n",
    "test['period_std'] = standard_scale(train['period'],test['period'])\n",
    "# 確認\n",
    "print('平均: {:.5f}'.format(np.mean(train['period_std'].values)))\n",
    "print('標準偏差: {:.5f}'.format(np.var(train['period_std'].values)))"
   ]
  },
  {
   "cell_type": "code",
   "execution_count": 14,
   "metadata": {},
   "outputs": [
    {
     "name": "stdout",
     "output_type": "stream",
     "text": [
      "■学習データ\n",
      "Index(['state', 'Art', 'Comics', 'Crafts', 'Dance', 'Design', 'Fashion',\n",
      "       'Film & Video', 'Food', 'Games', 'Journalism', 'Music', 'Photography',\n",
      "       'Publishing', 'Technology', 'Theater', 'AUD', 'CAD', 'CHF', 'DKK',\n",
      "       'EUR', 'GBP', 'HKD', 'JPY', 'MXN', 'NOK', 'NZD', 'SEK', 'SGD', 'USD',\n",
      "       'goal_std', 'period_std'],\n",
      "      dtype='object')\n",
      "\n",
      "■テストデータ\n",
      "Index(['state', 'Art', 'Comics', 'Crafts', 'Dance', 'Design', 'Fashion',\n",
      "       'Film & Video', 'Food', 'Games', 'Journalism', 'Music', 'Photography',\n",
      "       'Publishing', 'Technology', 'Theater', 'AUD', 'CAD', 'CHF', 'DKK',\n",
      "       'EUR', 'GBP', 'HKD', 'JPY', 'MXN', 'NOK', 'NZD', 'SEK', 'SGD', 'USD',\n",
      "       'goal_std', 'period_std'],\n",
      "      dtype='object')\n"
     ]
    }
   ],
   "source": [
    "# 不要な列削除\n",
    "train2 = train.drop(columns=['goal','period'])\n",
    "test2 = test.drop(columns=['goal','period'])\n",
    "print('■学習データ')\n",
    "print(train2.columns)\n",
    "print()\n",
    "print('■テストデータ')\n",
    "print(test2.columns)"
   ]
  },
  {
   "cell_type": "code",
   "execution_count": 15,
   "metadata": {},
   "outputs": [],
   "source": [
    "# 説明変数・目的変数に分割\n",
    "train_y = train2['state']\n",
    "train_X = train2.drop(['state'], axis=1)\n",
    "\n",
    "test_y = test2['state']\n",
    "test_X = test2.drop(['state'], axis=1)"
   ]
  },
  {
   "cell_type": "markdown",
   "metadata": {},
   "source": [
    "-------------------------\n",
    "#### ■ ステップワイズによる特徴選択\n",
    "--------------------------"
   ]
  },
  {
   "cell_type": "code",
   "execution_count": 16,
   "metadata": {},
   "outputs": [],
   "source": [
    "# # ステップワイズ法\n",
    "# \n",
    "# from sklearn.feature_selection import RFECV\n",
    "\n",
    "# # estimatorセット\n",
    "# estimator = LogisticRegression(fit_intercept=True, solver='lbfgs', max_iter=500)\n",
    "# # インスタンス生成\n",
    "# rfecv = RFECV(estimator, cv=3, scoring='accuracy')\n",
    "\n",
    "# # 特徴選択の実行\n",
    "# rfecv.fit(train_X, train_y)"
   ]
  },
  {
   "cell_type": "code",
   "execution_count": 17,
   "metadata": {},
   "outputs": [],
   "source": [
    "# # モデルの保存\n",
    "# file_name = 'logisticregression_rfecv.sav'\n",
    "# pickle.dump(rfecv, open(file_name, 'wb'))"
   ]
  },
  {
   "cell_type": "code",
   "execution_count": 18,
   "metadata": {},
   "outputs": [],
   "source": [
    "# モデルの読み込み\n",
    "file_name = 'logisticregression_rfecv.sav'\n",
    "model = pickle.load(open(file_name, 'rb'))"
   ]
  },
  {
   "cell_type": "code",
   "execution_count": 19,
   "metadata": {},
   "outputs": [
    {
     "name": "stdout",
     "output_type": "stream",
     "text": [
      "Feature ranking: \n",
      "[4 1 1 1 2 1 3 1 1 1 1 1 1 1 1 1 1 1 1 1 1 1 1 1 1 1 1 5 1 1 1]\n",
      "\n",
      "Not important feature:\n",
      "Index(['Art', 'Design', 'Film & Video', 'SGD'], dtype='object')\n"
     ]
    }
   ],
   "source": [
    "# 特徴ランキング(1が最も重要)\n",
    "print('Feature ranking: \\n{}'.format(model.ranking_))\n",
    "print()\n",
    "print('Not important feature:')\n",
    "print(train_X.columns[~model.support_])"
   ]
  },
  {
   "cell_type": "code",
   "execution_count": 32,
   "metadata": {},
   "outputs": [
    {
     "name": "stdout",
     "output_type": "stream",
     "text": [
      "Index(['Comics', 'Crafts', 'Dance', 'Fashion', 'Food', 'Games', 'Journalism',\n",
      "       'Music', 'Photography', 'Publishing', 'Technology', 'Theater', 'AUD',\n",
      "       'CAD', 'CHF', 'DKK', 'EUR', 'GBP', 'HKD', 'JPY', 'MXN', 'NOK', 'NZD',\n",
      "       'SEK', 'USD', 'goal_std', 'period_std'],\n",
      "      dtype='object')\n",
      "Index(['Comics', 'Crafts', 'Dance', 'Fashion', 'Food', 'Games', 'Journalism',\n",
      "       'Music', 'Photography', 'Publishing', 'Technology', 'Theater', 'AUD',\n",
      "       'CAD', 'CHF', 'DKK', 'EUR', 'GBP', 'HKD', 'JPY', 'MXN', 'NOK', 'NZD',\n",
      "       'SEK', 'USD', 'goal_std', 'period_std'],\n",
      "      dtype='object')\n",
      "[ True  True  True  True  True  True  True  True  True  True  True  True\n",
      "  True  True  True  True  True  True  True  True  True  True  True  True\n",
      "  True  True  True]\n"
     ]
    }
   ],
   "source": [
    "# 重要度が低い特徴を削る\n",
    "train_X2 = train_X.drop(columns=train_X.columns[~model.support_], axis=1)\n",
    "test_X2 = test_X.drop(columns=train_X.columns[~model.support_], axis=1)\n",
    "\n",
    "# 削除後の列名確認\n",
    "print(train_X2.columns)\n",
    "print(test_X2.columns)\n",
    "print(train_X2.columns == test_X2.columns)"
   ]
  },
  {
   "cell_type": "code",
   "execution_count": 39,
   "metadata": {},
   "outputs": [
    {
     "name": "stdout",
     "output_type": "stream",
     "text": [
      "No reduction\n",
      "分類精度：64.2915%\n",
      "\n",
      "Feature reduction\n",
      "分類精度: 64.3016%\n"
     ]
    }
   ],
   "source": [
    "# 特徴を削らずそのままで予測\n",
    "clf = LogisticRegression(fit_intercept=True, solver='lbfgs', max_iter=500)\n",
    "clf.fit(train_X, train_y)\n",
    "y_pre = clf.predict(test_X)\n",
    "print('No reduction')\n",
    "print('分類精度：{:.4f}%'.format(accuracy_score(test_y, y_pre)*100))\n",
    "\n",
    "print()\n",
    "# 特徴を削ったデータで予測\n",
    "clf = LogisticRegression(fit_intercept=True, solver='lbfgs', max_iter=500)\n",
    "clf.fit(train_X2, train_y)\n",
    "y_pre = clf.predict(test_X2)\n",
    "print('Feature reduction')\n",
    "print('分類精度: {:.4f}%'.format(accuracy_score(test_y, y_pre)*100))"
   ]
  },
  {
   "cell_type": "markdown",
   "metadata": {},
   "source": [
    "- 僅かだが、特徴選択により精度向上が見られた。"
   ]
  },
  {
   "cell_type": "markdown",
   "metadata": {},
   "source": [
    "--------------\n",
    "#### ■組み込み法による特徴選択(決定木)\n",
    "--------------"
   ]
  },
  {
   "cell_type": "code",
   "execution_count": 60,
   "metadata": {},
   "outputs": [],
   "source": [
    "# decision treeのインポート\n",
    "from sklearn.tree import DecisionTreeClassifier\n",
    "from sklearn.feature_selection import SelectFromModel"
   ]
  },
  {
   "cell_type": "code",
   "execution_count": 65,
   "metadata": {},
   "outputs": [
    {
     "name": "stdout",
     "output_type": "stream",
     "text": [
      "分類精度: 64.1237%\n"
     ]
    }
   ],
   "source": [
    "# estimator\n",
    "clf = DecisionTreeClassifier(\n",
    "    criterion='entropy', \n",
    "    max_depth=5, \n",
    "    min_samples_split=5,\n",
    "    min_samples_leaf=4,\n",
    "    random_state=9999\n",
    ")\n",
    "\n",
    "# 学習\n",
    "clf.fit(train_X, train_y)\n",
    "y_pre = clf.predict(test_X)\n",
    "print('分類精度: {:.4f}%'.format(accuracy_score(test_y, y_pre)*100))"
   ]
  },
  {
   "cell_type": "code",
   "execution_count": 80,
   "metadata": {},
   "outputs": [
    {
     "name": "stdout",
     "output_type": "stream",
     "text": [
      "[0.         0.03550088 0.         0.         0.00588388 0.0125442\n",
      " 0.         0.         0.00228259 0.         0.05352469 0.\n",
      " 0.         0.01955978 0.06034832 0.         0.         0.\n",
      " 0.         0.         0.         0.         0.         0.\n",
      " 0.         0.         0.         0.         0.         0.57674518\n",
      " 0.23361047]\n"
     ]
    },
    {
     "data": {
      "text/plain": [
       "Text(0.5, 0, 'importance')"
      ]
     },
     "execution_count": 80,
     "metadata": {},
     "output_type": "execute_result"
    },
    {
     "data": {
      "image/png": "[encoded data removed]",
      "text/plain": [
       "<Figure size 576x360 with 1 Axes>"
      ]
     },
     "metadata": {
      "needs_background": "light"
     },
     "output_type": "display_data"
    }
   ],
   "source": [
    "# 説明変数の重要度を出力\n",
    "print(clf.feature_importances_)\n",
    "\n",
    "# 描画\n",
    "plt.figure(figsize=(8,5))\n",
    "plt.barh(np.arange(0,len(clf.feature_importances_)), clf.feature_importances_,\n",
    "        tick_label=train_X.columns.values)\n",
    "plt.ylabel('explain valiables')\n",
    "plt.xlabel('importance')"
   ]
  },
  {
   "cell_type": "code",
   "execution_count": 84,
   "metadata": {},
   "outputs": [
    {
     "data": {
      "text/plain": [
       "Index(['Art', 'Crafts', 'Dance', 'Film & Video', 'Food', 'Journalism',\n",
       "       'Photography', 'Publishing', 'AUD', 'CAD', 'CHF', 'DKK', 'EUR', 'GBP',\n",
       "       'HKD', 'JPY', 'MXN', 'NOK', 'NZD', 'SEK', 'SGD', 'USD'],\n",
       "      dtype='object')"
      ]
     },
     "execution_count": 84,
     "metadata": {},
     "output_type": "execute_result"
    }
   ],
   "source": [
    "# 削除する変数をまとめてみる\n",
    "drop_columns = train_X.columns[clf.feature_importances_ <= 0]\n",
    "drop_columns"
   ]
  },
  {
   "cell_type": "code",
   "execution_count": 85,
   "metadata": {},
   "outputs": [],
   "source": [
    "# 重要度の低い変数を削除したデータの作成\n",
    "train_X3 = train_X.drop(columns=drop_columns, axis=1)\n",
    "test_X3 = test_X.drop(columns=drop_columns, axis=1)"
   ]
  },
  {
   "cell_type": "code",
   "execution_count": 90,
   "metadata": {},
   "outputs": [
    {
     "name": "stdout",
     "output_type": "stream",
     "text": [
      "説明変数の数: 9\n",
      "分類精度: 63.0845%\n"
     ]
    }
   ],
   "source": [
    "# 重要度の高い変数のみで予測\n",
    "clf = LogisticRegression(solver='lbfgs', penalty='l2', max_iter=400, random_state=9999)\n",
    "clf.fit(train_X3, train_y)\n",
    "y_pre = clf.predict(test_X3)\n",
    "print('説明変数の数: {}'.format(len(train_X3.columns.values)))\n",
    "print('分類精度: {:.4f}%'.format(accuracy_score(test_y,y_pre)*100))"
   ]
  },
  {
   "cell_type": "markdown",
   "metadata": {},
   "source": [
    "--------------------\n",
    "#### ■ 木モデルの利用\n",
    "------------------"
   ]
  },
  {
   "cell_type": "code",
   "execution_count": 91,
   "metadata": {},
   "outputs": [],
   "source": [
    "# 木モデルのモジュール\n",
    "from sklearn.tree import DecisionTreeClassifier\n",
    "from sklearn.ensemble import RandomForestClassifier"
   ]
  },
  {
   "cell_type": "code",
   "execution_count": 93,
   "metadata": {},
   "outputs": [
    {
     "name": "stdout",
     "output_type": "stream",
     "text": [
      "【学習データ】分類精度: 63.4504%\n",
      "【テストデータ】分類精度: 63.1509%\n"
     ]
    }
   ],
   "source": [
    "# インスタンス生成\n",
    "clf = RandomForestClassifier(\n",
    "    n_estimators=10, \n",
    "    max_depth=5, \n",
    "    min_samples_leaf=3,\n",
    "    min_samples_split=3,\n",
    "    criterion='entropy',\n",
    "    random_state=9999\n",
    ")\n",
    "\n",
    "# 学習\n",
    "clf.fit(train_X, train_y)\n",
    "print('【学習データ】分類精度: {:.4f}%'.format(clf.score(train_X,train_y)*100))\n",
    "print('【テストデータ】分類精度: {:.4f}%'.format(clf.score(test_X,test_y)*100))"
   ]
  },
  {
   "cell_type": "code",
   "execution_count": 104,
   "metadata": {},
   "outputs": [],
   "source": [
    "# Gridsearchでパラメータ調整\n",
    "from sklearn.model_selection import GridSearchCV"
   ]
  },
  {
   "cell_type": "code",
   "execution_count": 119,
   "metadata": {},
   "outputs": [
    {
     "data": {
      "text/plain": [
       "GridSearchCV(cv=2, error_score='raise-deprecating',\n",
       "             estimator=RandomForestClassifier(bootstrap=True, class_weight=None,\n",
       "                                              criterion='gini', max_depth=None,\n",
       "                                              max_features='auto',\n",
       "                                              max_leaf_nodes=None,\n",
       "                                              min_impurity_decrease=0.0,\n",
       "                                              min_impurity_split=None,\n",
       "                                              min_samples_leaf=1,\n",
       "                                              min_samples_split=2,\n",
       "                                              min_weight_fraction_leaf=0.0,\n",
       "                                              n_estimators='warn', n_jobs=None,\n",
       "                                              oob_score=False,\n",
       "                                              random_state=9999, verbose=0,\n",
       "                                              warm_start=False),\n",
       "             iid='warn', n_jobs=4,\n",
       "             param_grid={'criterion': ['entropy', 'gini'],\n",
       "                         'max_depth': [2, 3, 4, 5],\n",
       "                         'min_samples_leaf': [1, 3, 10],\n",
       "                         'min_samples_split': [2, 3, 10],\n",
       "                         'n_estimators': [10, 30, 50, 100]},\n",
       "             pre_dispatch='2*n_jobs', refit=True, return_train_score=False,\n",
       "             scoring=None, verbose=0)"
      ]
     },
     "execution_count": 119,
     "metadata": {},
     "output_type": "execute_result"
    }
   ],
   "source": [
    "# # パラメータセット\n",
    "# params = {\n",
    "#     'max_depth': [2,3,4,5],\n",
    "#     'n_estimators': [10,30,50,100],\n",
    "#     'min_samples_leaf': [1,3,10],\n",
    "#     'min_samples_split': [2,3,10],\n",
    "#     'criterion': ['entropy','gini']\n",
    "# }\n",
    "\n",
    "# # グリッドサーチのインスタンス生成\n",
    "# gs = GridSearchCV(\n",
    "#     estimator=RandomForestClassifier(random_state=9999), \n",
    "#     param_grid=params, \n",
    "#     cv=2,\n",
    "#     n_jobs=4\n",
    "# )\n",
    "# # グリッドサーチ\n",
    "# gs.fit(train_X, train_y)"
   ]
  },
  {
   "cell_type": "code",
   "execution_count": 120,
   "metadata": {},
   "outputs": [],
   "source": [
    "# # pickleで保存\n",
    "# file_name = 'gridsearch_randomforest.sav'\n",
    "# pickle.dump(gs, open(file_name, 'wb'))"
   ]
  },
  {
   "cell_type": "code",
   "execution_count": 131,
   "metadata": {},
   "outputs": [
    {
     "name": "stdout",
     "output_type": "stream",
     "text": [
      "ベストスコア(学習データ): 63.9565%\n",
      "ベストパラメータ: \n",
      "{'criterion': 'gini', 'max_depth': 5, 'min_samples_leaf': 3, 'min_samples_split': 2, 'n_estimators': 10}\n"
     ]
    }
   ],
   "source": [
    "# pickle読み込み\n",
    "file_name = 'gridsearch_randomforest.sav'\n",
    "model = pickle.load(open(file_name,'rb'))\n",
    "\n",
    "print('ベストスコア(学習データ): {:.4f}%'.format(model.best_score_*100))\n",
    "print('ベストパラメータ: \\n{}'.format(model.best_params_))\n",
    "\n",
    "# スコア一覧\n",
    "gs_result = pd.DataFrame.from_dict(model.cv_results_)\n",
    "gs_result.to_csv('GridSearch_randomforest_score_summary.csv')"
   ]
  },
  {
   "cell_type": "code",
   "execution_count": 134,
   "metadata": {},
   "outputs": [
    {
     "name": "stdout",
     "output_type": "stream",
     "text": [
      "予測精度: 64.0654%\n"
     ]
    }
   ],
   "source": [
    "# ベストパラメータで予測\n",
    "best_model = model.best_estimator_\n",
    "y_pre = best_model.predict(test_X)\n",
    "print('予測精度: {:.4f}%'.format(accuracy_score(test_y, y_pre)*100))"
   ]
  },
  {
   "cell_type": "markdown",
   "metadata": {},
   "source": [
    "--------------\n",
    "#### ■ Adaboost\n",
    "--------------"
   ]
  },
  {
   "cell_type": "code",
   "execution_count": 136,
   "metadata": {},
   "outputs": [],
   "source": [
    "# Adaboost\n",
    "from sklearn.ensemble import AdaBoostClassifier\n",
    "from sklearn.tree import DecisionTreeClassifier"
   ]
  },
  {
   "cell_type": "code",
   "execution_count": 145,
   "metadata": {},
   "outputs": [],
   "source": [
    "# インスタンス生成\n",
    "clf = AdaBoostClassifier(\n",
    "                DecisionTreeClassifier(\n",
    "                    max_depth=5,\n",
    "                    min_samples_leaf=3,\n",
    "                    min_samples_split=2,\n",
    "                    criterion='gini'),\n",
    "        n_estimators=20,\n",
    "        random_state=9999\n",
    ")\n",
    "\n",
    "# 学習\n",
    "clf.fit(train_X, train_y)\n",
    "\n",
    "# pickleでモデル保存\n",
    "file_name = 'Adaboost_DecisionTree.sav'\n",
    "pickle.dump(clf, open(file_name,'wb'))"
   ]
  },
  {
   "cell_type": "code",
   "execution_count": 148,
   "metadata": {},
   "outputs": [
    {
     "name": "stdout",
     "output_type": "stream",
     "text": [
      "score for training data: 66.6170%\n"
     ]
    }
   ],
   "source": [
    "# pickle読み込み\n",
    "file_name = 'Adaboost_DecisionTree.sav'\n",
    "model = pickle.load(open(file_name,'rb'))\n",
    "# 分類精度(学習データ)\n",
    "print('score for training data: {:.4f}%'.format(model.score(train_X,train_y)*100))"
   ]
  },
  {
   "cell_type": "code",
   "execution_count": 156,
   "metadata": {},
   "outputs": [
    {
     "name": "stdout",
     "output_type": "stream",
     "text": [
      "[0.         0.00177005 0.00186516 0.00204971 0.00453518 0.00537936\n",
      " 0.00639016 0.00717989 0.00827776 0.00832144 0.00862881 0.00874727\n",
      " 0.01022332 0.01183503 0.01205902 0.01218536 0.01452604 0.01466846\n",
      " 0.01519553 0.01555518 0.01748468 0.02059787 0.02171295 0.02356699\n",
      " 0.02369049 0.02558824 0.02943786 0.0321135  0.03225678 0.25274684\n",
      " 0.35141107]\n"
     ]
    },
    {
     "data": {
      "image/png": "[encoded data removed]",
      "text/plain": [
       "<Figure size 576x720 with 1 Axes>"
      ]
     },
     "metadata": {
      "needs_background": "light"
     },
     "output_type": "display_data"
    }
   ],
   "source": [
    "# 説明変数の重要度\n",
    "sort_ind = np.argsort(clf.feature_importances_) # 並べ変えのインデックス(降順)\n",
    "sort_columns = train_X.columns[sort_ind]\n",
    "\n",
    "sort_importance = np.sort(clf.feature_importances_)\n",
    "print(sort_importance)\n",
    "\n",
    "# 描画\n",
    "plt.figure(figsize=(8,10))\n",
    "plt.barh(np.arange(0,len(train_X.columns)), sort_importance,tick_label=sort_columns)\n",
    "plt.ylabel('explain variables')\n",
    "plt.xlabel('importance')\n",
    "plt.show()"
   ]
  },
  {
   "cell_type": "code",
   "execution_count": 158,
   "metadata": {},
   "outputs": [
    {
     "name": "stdout",
     "output_type": "stream",
     "text": [
      "分類精度: 66.3658%\n"
     ]
    }
   ],
   "source": [
    "# テストデータの予測精度\n",
    "y_pre = model.predict(test_X)\n",
    "print('分類精度: {:.4f}%'.format(accuracy_score(test_y,y_pre)*100))"
   ]
  },
  {
   "cell_type": "markdown",
   "metadata": {},
   "source": [
    "------------------\n",
    "#### ■ Neural Network\n",
    "-------------------"
   ]
  },
  {
   "cell_type": "code",
   "execution_count": 183,
   "metadata": {},
   "outputs": [],
   "source": [
    "# Neural Network - keras\n",
    "from tensorflow.compat.v1.keras import Sequential\n",
    "from tensorflow.compat.v1.keras.layers import Dense, Dropout, Activation\n",
    "from tensorflow.compat.v1.keras.optimizers import SGD, RMSprop, Adam"
   ]
  },
  {
   "cell_type": "code",
   "execution_count": 192,
   "metadata": {},
   "outputs": [
    {
     "data": {
      "text/plain": [
       "190592    0.0\n",
       "235081    1.0\n",
       "248248    1.0\n",
       "64569     0.0\n",
       "156311    0.0\n",
       "         ... \n",
       "252031    1.0\n",
       "86314     0.0\n",
       "93493     0.0\n",
       "244298    1.0\n",
       "254029    1.0\n",
       "Name: state, Length: 232172, dtype: float64"
      ]
     },
     "execution_count": 192,
     "metadata": {},
     "output_type": "execute_result"
    }
   ],
   "source": [
    "train_y"
   ]
  },
  {
   "cell_type": "code",
   "execution_count": 195,
   "metadata": {},
   "outputs": [
    {
     "name": "stdout",
     "output_type": "stream",
     "text": [
      "Epoch 1/100\n",
      "232172/232172 [==============================] - 8s 36us/sample - loss: 0.6317 - acc: 0.6391\n",
      "Epoch 2/100\n",
      "232172/232172 [==============================] - 8s 36us/sample - loss: 0.6227 - acc: 0.6468\n",
      "Epoch 3/100\n",
      "232172/232172 [==============================] - 8s 35us/sample - loss: 0.6197 - acc: 0.6502\n",
      "Epoch 4/100\n",
      "232172/232172 [==============================] - 8s 35us/sample - loss: 0.6170 - acc: 0.6522\n",
      "Epoch 5/100\n",
      "232172/232172 [==============================] - 8s 35us/sample - loss: 0.6163 - acc: 0.6531\n",
      "Epoch 6/100\n",
      "232172/232172 [==============================] - 8s 36us/sample - loss: 0.6152 - acc: 0.6539\n",
      "Epoch 7/100\n",
      "232172/232172 [==============================] - 8s 35us/sample - loss: 0.6142 - acc: 0.6544\n",
      "Epoch 8/100\n",
      "232172/232172 [==============================] - 8s 36us/sample - loss: 0.6136 - acc: 0.6557\n",
      "Epoch 9/100\n",
      "232172/232172 [==============================] - 8s 36us/sample - loss: 0.6127 - acc: 0.6561\n",
      "Epoch 10/100\n",
      "232172/232172 [==============================] - 8s 36us/sample - loss: 0.6124 - acc: 0.6561\n",
      "Epoch 11/100\n",
      "232172/232172 [==============================] - 8s 36us/sample - loss: 0.6120 - acc: 0.6564\n",
      "Epoch 12/100\n",
      "232172/232172 [==============================] - 8s 36us/sample - loss: 0.6119 - acc: 0.6568\n",
      "Epoch 13/100\n",
      "232172/232172 [==============================] - 8s 35us/sample - loss: 0.6111 - acc: 0.6577\n",
      "Epoch 14/100\n",
      "232172/232172 [==============================] - 8s 36us/sample - loss: 0.6112 - acc: 0.6573\n",
      "Epoch 15/100\n",
      "232172/232172 [==============================] - 8s 36us/sample - loss: 0.6109 - acc: 0.6581\n",
      "Epoch 16/100\n",
      "232172/232172 [==============================] - 8s 36us/sample - loss: 0.6105 - acc: 0.6581\n",
      "Epoch 17/100\n",
      "232172/232172 [==============================] - 8s 36us/sample - loss: 0.6102 - acc: 0.6589\n",
      "Epoch 18/100\n",
      "232172/232172 [==============================] - 8s 36us/sample - loss: 0.6103 - acc: 0.6567\n",
      "Epoch 19/100\n",
      "232172/232172 [==============================] - 8s 36us/sample - loss: 0.6100 - acc: 0.6580\n",
      "Epoch 20/100\n",
      "232172/232172 [==============================] - 8s 36us/sample - loss: 0.6097 - acc: 0.6588\n",
      "Epoch 21/100\n",
      "232172/232172 [==============================] - 8s 36us/sample - loss: 0.6097 - acc: 0.6588\n",
      "Epoch 22/100\n",
      "232172/232172 [==============================] - 8s 36us/sample - loss: 0.6093 - acc: 0.6589\n",
      "Epoch 23/100\n",
      "232172/232172 [==============================] - 8s 36us/sample - loss: 0.6093 - acc: 0.6586\n",
      "Epoch 24/100\n",
      "232172/232172 [==============================] - 8s 36us/sample - loss: 0.6093 - acc: 0.6584\n",
      "Epoch 25/100\n",
      "232172/232172 [==============================] - 8s 36us/sample - loss: 0.6089 - acc: 0.6587\n",
      "Epoch 26/100\n",
      "232172/232172 [==============================] - 8s 36us/sample - loss: 0.6090 - acc: 0.6583\n",
      "Epoch 27/100\n",
      "232172/232172 [==============================] - 9s 37us/sample - loss: 0.6090 - acc: 0.6590\n",
      "Epoch 28/100\n",
      "232172/232172 [==============================] - 8s 36us/sample - loss: 0.6088 - acc: 0.6591\n",
      "Epoch 29/100\n",
      "232172/232172 [==============================] - 8s 35us/sample - loss: 0.6085 - acc: 0.6595\n",
      "Epoch 30/100\n",
      "232172/232172 [==============================] - 8s 36us/sample - loss: 0.6084 - acc: 0.6595\n",
      "Epoch 31/100\n",
      "232172/232172 [==============================] - 9s 38us/sample - loss: 0.6082 - acc: 0.6599\n",
      "Epoch 32/100\n",
      "232172/232172 [==============================] - 10s 42us/sample - loss: 0.6080 - acc: 0.6600\n",
      "Epoch 33/100\n",
      "232172/232172 [==============================] - 9s 38us/sample - loss: 0.6081 - acc: 0.6601\n",
      "Epoch 34/100\n",
      "232172/232172 [==============================] - 8s 36us/sample - loss: 0.6080 - acc: 0.6602\n",
      "Epoch 35/100\n",
      "232172/232172 [==============================] - 8s 36us/sample - loss: 0.6077 - acc: 0.6604\n",
      "Epoch 36/100\n",
      "232172/232172 [==============================] - 9s 37us/sample - loss: 0.6080 - acc: 0.6597\n",
      "Epoch 37/100\n",
      "232172/232172 [==============================] - 9s 37us/sample - loss: 0.6076 - acc: 0.6604\n",
      "Epoch 38/100\n",
      "232172/232172 [==============================] - 9s 38us/sample - loss: 0.6077 - acc: 0.6604\n",
      "Epoch 39/100\n",
      "232172/232172 [==============================] - 9s 38us/sample - loss: 0.6072 - acc: 0.6603\n",
      "Epoch 40/100\n",
      "232172/232172 [==============================] - 9s 39us/sample - loss: 0.6075 - acc: 0.6601\n",
      "Epoch 41/100\n",
      "232172/232172 [==============================] - 10s 42us/sample - loss: 0.6073 - acc: 0.6605\n",
      "Epoch 42/100\n",
      "232172/232172 [==============================] - 8s 36us/sample - loss: 0.6073 - acc: 0.6612\n",
      "Epoch 43/100\n",
      "232172/232172 [==============================] - 8s 36us/sample - loss: 0.6073 - acc: 0.6602\n",
      "Epoch 44/100\n",
      "232172/232172 [==============================] - 8s 36us/sample - loss: 0.6071 - acc: 0.6604\n",
      "Epoch 45/100\n",
      "232172/232172 [==============================] - 8s 36us/sample - loss: 0.6068 - acc: 0.6610\n",
      "Epoch 46/100\n",
      "232172/232172 [==============================] - 8s 36us/sample - loss: 0.6069 - acc: 0.6603\n",
      "Epoch 47/100\n",
      "232172/232172 [==============================] - 9s 40us/sample - loss: 0.6069 - acc: 0.6606\n",
      "Epoch 48/100\n",
      "232172/232172 [==============================] - 8s 37us/sample - loss: 0.6065 - acc: 0.6616\n",
      "Epoch 49/100\n",
      "232172/232172 [==============================] - 8s 34us/sample - loss: 0.6065 - acc: 0.6608\n",
      "Epoch 50/100\n",
      "232172/232172 [==============================] - 8s 34us/sample - loss: 0.6064 - acc: 0.6611\n",
      "Epoch 51/100\n",
      "232172/232172 [==============================] - 8s 34us/sample - loss: 0.6065 - acc: 0.6613\n",
      "Epoch 52/100\n",
      "232172/232172 [==============================] - 8s 33us/sample - loss: 0.6064 - acc: 0.6621\n",
      "Epoch 53/100\n",
      "232172/232172 [==============================] - 8s 34us/sample - loss: 0.6064 - acc: 0.6614\n",
      "Epoch 54/100\n",
      "232172/232172 [==============================] - 8s 36us/sample - loss: 0.6064 - acc: 0.6612\n",
      "Epoch 55/100\n",
      "232172/232172 [==============================] - 8s 34us/sample - loss: 0.6061 - acc: 0.6614\n",
      "Epoch 56/100\n",
      "232172/232172 [==============================] - 9s 37us/sample - loss: 0.6062 - acc: 0.6616\n",
      "Epoch 57/100\n",
      "232172/232172 [==============================] - 9s 38us/sample - loss: 0.6062 - acc: 0.6614\n",
      "Epoch 58/100\n",
      "232172/232172 [==============================] - 8s 36us/sample - loss: 0.6060 - acc: 0.6608\n",
      "Epoch 59/100\n",
      "232172/232172 [==============================] - 8s 34us/sample - loss: 0.6060 - acc: 0.6622\n",
      "Epoch 60/100\n",
      "232172/232172 [==============================] - 8s 34us/sample - loss: 0.6059 - acc: 0.6619\n",
      "Epoch 61/100\n",
      "232172/232172 [==============================] - 8s 34us/sample - loss: 0.6061 - acc: 0.6617\n",
      "Epoch 62/100\n",
      "232172/232172 [==============================] - 8s 35us/sample - loss: 0.6057 - acc: 0.6611\n",
      "Epoch 63/100\n",
      "232172/232172 [==============================] - 8s 36us/sample - loss: 0.6057 - acc: 0.6617\n",
      "Epoch 64/100\n",
      "232172/232172 [==============================] - 9s 37us/sample - loss: 0.6057 - acc: 0.6617\n",
      "Epoch 65/100\n",
      "232172/232172 [==============================] - 8s 34us/sample - loss: 0.6054 - acc: 0.6614\n",
      "Epoch 66/100\n",
      "232172/232172 [==============================] - 8s 34us/sample - loss: 0.6058 - acc: 0.6613\n",
      "Epoch 67/100\n",
      "232172/232172 [==============================] - 8s 34us/sample - loss: 0.6058 - acc: 0.6615\n",
      "Epoch 68/100\n",
      "232172/232172 [==============================] - 9s 37us/sample - loss: 0.6056 - acc: 0.6621\n",
      "Epoch 69/100\n",
      "232172/232172 [==============================] - 8s 36us/sample - loss: 0.6055 - acc: 0.6617\n",
      "Epoch 70/100\n",
      "232172/232172 [==============================] - 8s 36us/sample - loss: 0.6053 - acc: 0.6625\n",
      "Epoch 71/100\n",
      "232172/232172 [==============================] - 8s 36us/sample - loss: 0.6053 - acc: 0.6617\n",
      "Epoch 72/100\n",
      "232172/232172 [==============================] - 8s 36us/sample - loss: 0.6053 - acc: 0.6620\n",
      "Epoch 73/100\n",
      "232172/232172 [==============================] - 8s 35us/sample - loss: 0.6053 - acc: 0.6622\n",
      "Epoch 74/100\n",
      "232172/232172 [==============================] - 8s 34us/sample - loss: 0.6050 - acc: 0.6621\n",
      "Epoch 75/100\n",
      "232172/232172 [==============================] - 8s 35us/sample - loss: 0.6050 - acc: 0.6628\n",
      "Epoch 76/100\n",
      "232172/232172 [==============================] - 8s 35us/sample - loss: 0.6051 - acc: 0.6620\n",
      "Epoch 77/100\n",
      "232172/232172 [==============================] - 8s 36us/sample - loss: 0.6051 - acc: 0.6625\n",
      "Epoch 78/100\n"
     ]
    },
    {
     "name": "stdout",
     "output_type": "stream",
     "text": [
      "232172/232172 [==============================] - 8s 35us/sample - loss: 0.6052 - acc: 0.6626\n",
      "Epoch 79/100\n",
      "232172/232172 [==============================] - 9s 37us/sample - loss: 0.6048 - acc: 0.6626\n",
      "Epoch 80/100\n",
      "232172/232172 [==============================] - 8s 37us/sample - loss: 0.6049 - acc: 0.6627\n",
      "Epoch 81/100\n",
      "232172/232172 [==============================] - 9s 37us/sample - loss: 0.6049 - acc: 0.6623\n",
      "Epoch 82/100\n",
      "232172/232172 [==============================] - 8s 33us/sample - loss: 0.6045 - acc: 0.6627\n",
      "Epoch 83/100\n",
      "232172/232172 [==============================] - 8s 34us/sample - loss: 0.6048 - acc: 0.6621\n",
      "Epoch 84/100\n",
      "232172/232172 [==============================] - 8s 36us/sample - loss: 0.6050 - acc: 0.6623\n",
      "Epoch 85/100\n",
      "232172/232172 [==============================] - 8s 35us/sample - loss: 0.6048 - acc: 0.6628\n",
      "Epoch 86/100\n",
      "232172/232172 [==============================] - 8s 34us/sample - loss: 0.6049 - acc: 0.6623\n",
      "Epoch 87/100\n",
      "232172/232172 [==============================] - 8s 34us/sample - loss: 0.6045 - acc: 0.6625\n",
      "Epoch 88/100\n",
      "232172/232172 [==============================] - 8s 35us/sample - loss: 0.6046 - acc: 0.6628\n",
      "Epoch 89/100\n",
      "232172/232172 [==============================] - 8s 36us/sample - loss: 0.6045 - acc: 0.6619\n",
      "Epoch 90/100\n",
      "232172/232172 [==============================] - 8s 36us/sample - loss: 0.6046 - acc: 0.6620\n",
      "Epoch 91/100\n",
      "232172/232172 [==============================] - 8s 36us/sample - loss: 0.6045 - acc: 0.6628\n",
      "Epoch 92/100\n",
      "232172/232172 [==============================] - 8s 35us/sample - loss: 0.6046 - acc: 0.6629\n",
      "Epoch 93/100\n",
      "232172/232172 [==============================] - 8s 37us/sample - loss: 0.6044 - acc: 0.6626\n",
      "Epoch 94/100\n",
      "232172/232172 [==============================] - 9s 37us/sample - loss: 0.6043 - acc: 0.6627\n",
      "Epoch 95/100\n",
      "232172/232172 [==============================] - 8s 36us/sample - loss: 0.6043 - acc: 0.6629\n",
      "Epoch 96/100\n",
      "232172/232172 [==============================] - 10s 42us/sample - loss: 0.6045 - acc: 0.6630\n",
      "Epoch 97/100\n",
      "232172/232172 [==============================] - 8s 36us/sample - loss: 0.6041 - acc: 0.6631\n",
      "Epoch 98/100\n",
      "232172/232172 [==============================] - 8s 36us/sample - loss: 0.6043 - acc: 0.6630\n",
      "Epoch 99/100\n",
      "232172/232172 [==============================] - 8s 36us/sample - loss: 0.6043 - acc: 0.6630\n",
      "Epoch 100/100\n",
      "232172/232172 [==============================] - 9s 37us/sample - loss: 0.6044 - acc: 0.6626\n"
     ]
    },
    {
     "data": {
      "text/plain": [
       "<tensorflow.python.keras.callbacks.History at 0x2bc90bbe4c8>"
      ]
     },
     "execution_count": 195,
     "metadata": {},
     "output_type": "execute_result"
    }
   ],
   "source": [
    "# モデルを構成する\n",
    "model = Sequential()\n",
    "\n",
    "# 入力層(0層) - 中間層(1層)を定義\n",
    "model.add(Dense(512, activation='relu', input_shape=(len(train_X.columns),)))\n",
    "model.add(Dropout(0.2))\n",
    "model.add(Dense(256, activation='relu'))\n",
    "model.add(Dense(1, activation='sigmoid'))\n",
    "\n",
    "# 損失関数と最適化手法を指定\n",
    "model.compile(loss='binary_crossentropy',\n",
    "              optimizer=Adam(),\n",
    "             metrics=['accuracy']\n",
    ")\n",
    "# 学習\n",
    "model.fit(train_X, train_y,batch_size=100,epochs=100,verbose=1)"
   ]
  },
  {
   "cell_type": "code",
   "execution_count": 200,
   "metadata": {},
   "outputs": [],
   "source": [
    "# モデル＆重みパラメータの保存\n",
    "model.save('kickstarter_NN_model.h5')\n",
    "model.save_weights('kickstarter_nn_weight_v1.h5')"
   ]
  },
  {
   "cell_type": "code",
   "execution_count": null,
   "metadata": {},
   "outputs": [],
   "source": [
    "# モデルの読み込み\n",
    "from keras.models import load_model\n",
    "model = load_model('kickstarter_NN_model.h5')\n",
    "model.summary()\n",
    "# 重みの読み込み\n",
    "model.load_weights('kickstarter_nn_weight_v1.h5')"
   ]
  },
  {
   "cell_type": "code",
   "execution_count": 207,
   "metadata": {},
   "outputs": [
    {
     "name": "stdout",
     "output_type": "stream",
     "text": [
      "分類精度: 66.0563%\n"
     ]
    }
   ],
   "source": [
    "# テストデータの予測\n",
    "y_pre = model.predict(test_X)\n",
    "y_pre[y_pre < 0.5] = 0.0\n",
    "y_pre[y_pre >= 0.5] = 1.0\n",
    "print('分類精度: {:.4f}%'.format(accuracy_score(test_y, y_pre)*100))"
   ]
  },
  {
   "cell_type": "markdown",
   "metadata": {},
   "source": [
    "---------------\n",
    "#### ■ DAY2と比較\n",
    "-----------------"
   ]
  },
  {
   "cell_type": "code",
   "execution_count": 208,
   "metadata": {},
   "outputs": [
    {
     "data": {
      "text/plain": [
       "GridSearchCV(cv=3, error_score='raise-deprecating',\n",
       "             estimator=LogisticRegression(C=1.0, class_weight=None, dual=False,\n",
       "                                          fit_intercept=True,\n",
       "                                          intercept_scaling=1, l1_ratio=None,\n",
       "                                          max_iter=300, multi_class='warn',\n",
       "                                          n_jobs=None, penalty='l2',\n",
       "                                          random_state=9999, solver='lbfgs',\n",
       "                                          tol=0.0001, verbose=0,\n",
       "                                          warm_start=False),\n",
       "             iid='warn', n_jobs=None, param_grid={'C': [1, 5, 10, 50]},\n",
       "             pre_dispatch='2*n_jobs', refit=True, return_train_score=False,\n",
       "             scoring=None, verbose=0)"
      ]
     },
     "execution_count": 208,
     "metadata": {},
     "output_type": "execute_result"
    }
   ],
   "source": [
    "# DAY2のモデル - LogisticRegression\n",
    "# LogisticRegression(l2)のグリッドサーチによる交差検証\n",
    "day2 = LogisticRegression(penalty='l2', solver='lbfgs',random_state=9999, max_iter=300)\n",
    "\n",
    "# 探索パラメータセット\n",
    "params = {'C': [1, 5, 10, 50]}\n",
    "\n",
    "# グリッドサーチ\n",
    "gs_day2 = GridSearchCV(estimator=day2, param_grid=params, cv=3)\n",
    "gs_day2.fit(train_X, train_y)"
   ]
  },
  {
   "cell_type": "code",
   "execution_count": 209,
   "metadata": {},
   "outputs": [],
   "source": [
    "# pickleで保存\n",
    "file_name = 'DAY2_LogisticRegression_L2.sav'\n",
    "pickle.dump(gs_day2, open(file_name, 'wb'))"
   ]
  },
  {
   "cell_type": "code",
   "execution_count": 213,
   "metadata": {},
   "outputs": [
    {
     "name": "stdout",
     "output_type": "stream",
     "text": [
      "分類精度(DAY2): 64.2855%\n"
     ]
    }
   ],
   "source": [
    "# pickle読み込み\n",
    "day2_best = pickle.load(open('DAY2_LogisticRegression_L2.sav','rb')).best_estimator_\n",
    "y_pre = day2_best.predict(test_X)\n",
    "print('分類精度(DAY2): {:.4f}%'.format(accuracy_score(test_y, y_pre)*100))"
   ]
  },
  {
   "cell_type": "markdown",
   "metadata": {},
   "source": [
    "■DAY3のモデル\n",
    "- Adaboost: 66.3658%\n",
    "- NeuralNet: 66.0563%\n",
    "\n",
    "■DAY2のモデル\n",
    "- LogisticRegression(L2): 64.2855%"
   ]
  },
  {
   "cell_type": "code",
   "execution_count": null,
   "metadata": {},
   "outputs": [],
   "source": []
  }
 ],
 "metadata": {
  "kernelspec": {
   "display_name": "Python 3.7.4 64-bit ('base': conda)",
   "language": "python",
   "name": "python37464bitbasecondaa456a6740d7e490db9ca4374186e9e5a"
  },
  "language_info": {
   "codemirror_mode": {
    "name": "ipython",
    "version": 3
   },
   "file_extension": ".py",
   "mimetype": "text/x-python",
   "name": "python",
   "nbconvert_exporter": "python",
   "pygments_lexer": "ipython3",
   "version": "3.7.4"
  }
 },
 "nbformat": 4,
 "nbformat_minor": 4
}
